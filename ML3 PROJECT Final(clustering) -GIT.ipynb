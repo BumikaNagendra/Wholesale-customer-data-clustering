{
 "cells": [
  {
   "cell_type": "markdown",
   "metadata": {},
   "source": [
    "<table>\n",
    "    <tr>\n",
    "        <td>\n",
    "            <div align =\"center\">\n",
    "                <font color=\"#21618C\" size=8px>\n",
    "                    <b> Machine Learning project <br> on Wholesale customers data\n",
    "                    </b>\n",
    "                </font>\n",
    "            </div>\n",
    "        </td>\n",
    "    <tr>\n",
    "<table>"
   ]
  },
  {
   "cell_type": "markdown",
   "metadata": {},
   "source": [
    "## problem statement:\n",
    "    Our project goal is to use various clustering techniques to segment customers. Clustering is an unsupervised learning algorithm that tries to cluster data based on their similarity. Thus, there is no outcome to be predicted, and the algorithm just tries to find patterns in the data"
   ]
  },
  {
   "cell_type": "markdown",
   "metadata": {},
   "source": [
    "### Data description:\n",
    "1) FRESH: annual spending (m.u.) on fresh products (Continuous)        \n",
    "2) MILK: annual spending (m.u.) on milk products (Continuous)     \n",
    "3) GROCERY: annual spending (m.u.)on grocery products (Continuous)       \n",
    "4) FROZEN: annual spending (m.u.)on frozen products (Continuous)         \n",
    "5) DETERGENTS_PAPER: annual spending (m.u.) on detergents and paper products (Continuous)                          \n",
    "6) DELICATESSEN: annual spending (m.u.)on and delicatessen products (Continuous)                   \n",
    "7) CHANNEL: customers Channel - Horeca (Hotel/Restaurant/Cafe) or Retail channel (Nominal)               \n",
    "8) REGION: customers Region - Lisnon, Oporto or Other (Nominal)  \n",
    "Region Frequency:        \n",
    "Lisbon 77 Oporto 47 Other Region 316 Total 440             \n",
    "                         \n",
    "Channel Frequency:                          \n",
    "Horeca 298 Retail 142 Total 440"
   ]
  },
  {
   "cell_type": "code",
   "execution_count": 1,
   "metadata": {},
   "outputs": [],
   "source": [
    "#importing required libraries\n",
    "import pandas as pd\n",
    "import numpy as np\n",
    "import matplotlib.pyplot as plt\n",
    "import seaborn as sns\n",
    "from warnings import filterwarnings\n",
    "filterwarnings('ignore')"
   ]
  },
  {
   "cell_type": "markdown",
   "metadata": {},
   "source": [
    "# Reading the data"
   ]
  },
  {
   "cell_type": "code",
   "execution_count": 2,
   "metadata": {},
   "outputs": [
    {
     "data": {
      "text/html": [
       "<div>\n",
       "<style scoped>\n",
       "    .dataframe tbody tr th:only-of-type {\n",
       "        vertical-align: middle;\n",
       "    }\n",
       "\n",
       "    .dataframe tbody tr th {\n",
       "        vertical-align: top;\n",
       "    }\n",
       "\n",
       "    .dataframe thead th {\n",
       "        text-align: right;\n",
       "    }\n",
       "</style>\n",
       "<table border=\"1\" class=\"dataframe\">\n",
       "  <thead>\n",
       "    <tr style=\"text-align: right;\">\n",
       "      <th></th>\n",
       "      <th>Channel</th>\n",
       "      <th>Region</th>\n",
       "      <th>Fresh</th>\n",
       "      <th>Milk</th>\n",
       "      <th>Grocery</th>\n",
       "      <th>Frozen</th>\n",
       "      <th>Detergents_Paper</th>\n",
       "      <th>Delicassen</th>\n",
       "    </tr>\n",
       "  </thead>\n",
       "  <tbody>\n",
       "    <tr>\n",
       "      <th>0</th>\n",
       "      <td>2</td>\n",
       "      <td>3</td>\n",
       "      <td>12669</td>\n",
       "      <td>9656</td>\n",
       "      <td>7561</td>\n",
       "      <td>214</td>\n",
       "      <td>2674</td>\n",
       "      <td>1338</td>\n",
       "    </tr>\n",
       "    <tr>\n",
       "      <th>1</th>\n",
       "      <td>2</td>\n",
       "      <td>3</td>\n",
       "      <td>7057</td>\n",
       "      <td>9810</td>\n",
       "      <td>9568</td>\n",
       "      <td>1762</td>\n",
       "      <td>3293</td>\n",
       "      <td>1776</td>\n",
       "    </tr>\n",
       "    <tr>\n",
       "      <th>2</th>\n",
       "      <td>2</td>\n",
       "      <td>3</td>\n",
       "      <td>6353</td>\n",
       "      <td>8808</td>\n",
       "      <td>7684</td>\n",
       "      <td>2405</td>\n",
       "      <td>3516</td>\n",
       "      <td>7844</td>\n",
       "    </tr>\n",
       "    <tr>\n",
       "      <th>3</th>\n",
       "      <td>1</td>\n",
       "      <td>3</td>\n",
       "      <td>13265</td>\n",
       "      <td>1196</td>\n",
       "      <td>4221</td>\n",
       "      <td>6404</td>\n",
       "      <td>507</td>\n",
       "      <td>1788</td>\n",
       "    </tr>\n",
       "    <tr>\n",
       "      <th>4</th>\n",
       "      <td>2</td>\n",
       "      <td>3</td>\n",
       "      <td>22615</td>\n",
       "      <td>5410</td>\n",
       "      <td>7198</td>\n",
       "      <td>3915</td>\n",
       "      <td>1777</td>\n",
       "      <td>5185</td>\n",
       "    </tr>\n",
       "  </tbody>\n",
       "</table>\n",
       "</div>"
      ],
      "text/plain": [
       "   Channel  Region  Fresh  Milk  Grocery  Frozen  Detergents_Paper  Delicassen\n",
       "0        2       3  12669  9656     7561     214              2674        1338\n",
       "1        2       3   7057  9810     9568    1762              3293        1776\n",
       "2        2       3   6353  8808     7684    2405              3516        7844\n",
       "3        1       3  13265  1196     4221    6404               507        1788\n",
       "4        2       3  22615  5410     7198    3915              1777        5185"
      ]
     },
     "execution_count": 2,
     "metadata": {},
     "output_type": "execute_result"
    }
   ],
   "source": [
    "df=pd.read_csv('Wholesale customers data.csv')\n",
    "df.head()"
   ]
  },
  {
   "cell_type": "markdown",
   "metadata": {},
   "source": [
    "### First 5 observations"
   ]
  },
  {
   "cell_type": "markdown",
   "metadata": {},
   "source": [
    "Shape of the dataset"
   ]
  },
  {
   "cell_type": "code",
   "execution_count": 3,
   "metadata": {},
   "outputs": [
    {
     "data": {
      "text/plain": [
       "(440, 8)"
      ]
     },
     "execution_count": 3,
     "metadata": {},
     "output_type": "execute_result"
    }
   ],
   "source": [
    "df.shape"
   ]
  },
  {
   "cell_type": "markdown",
   "metadata": {},
   "source": [
    "Information about the dataset"
   ]
  },
  {
   "cell_type": "code",
   "execution_count": 4,
   "metadata": {},
   "outputs": [
    {
     "name": "stdout",
     "output_type": "stream",
     "text": [
      "<class 'pandas.core.frame.DataFrame'>\n",
      "RangeIndex: 440 entries, 0 to 439\n",
      "Data columns (total 8 columns):\n",
      " #   Column            Non-Null Count  Dtype\n",
      "---  ------            --------------  -----\n",
      " 0   Channel           440 non-null    int64\n",
      " 1   Region            440 non-null    int64\n",
      " 2   Fresh             440 non-null    int64\n",
      " 3   Milk              440 non-null    int64\n",
      " 4   Grocery           440 non-null    int64\n",
      " 5   Frozen            440 non-null    int64\n",
      " 6   Detergents_Paper  440 non-null    int64\n",
      " 7   Delicassen        440 non-null    int64\n",
      "dtypes: int64(8)\n",
      "memory usage: 27.6 KB\n"
     ]
    }
   ],
   "source": [
    "df.info()"
   ]
  },
  {
   "cell_type": "markdown",
   "metadata": {},
   "source": [
    "Describing the numerical features"
   ]
  },
  {
   "cell_type": "code",
   "execution_count": 5,
   "metadata": {},
   "outputs": [
    {
     "data": {
      "text/html": [
       "<div>\n",
       "<style scoped>\n",
       "    .dataframe tbody tr th:only-of-type {\n",
       "        vertical-align: middle;\n",
       "    }\n",
       "\n",
       "    .dataframe tbody tr th {\n",
       "        vertical-align: top;\n",
       "    }\n",
       "\n",
       "    .dataframe thead th {\n",
       "        text-align: right;\n",
       "    }\n",
       "</style>\n",
       "<table border=\"1\" class=\"dataframe\">\n",
       "  <thead>\n",
       "    <tr style=\"text-align: right;\">\n",
       "      <th></th>\n",
       "      <th>Channel</th>\n",
       "      <th>Region</th>\n",
       "      <th>Fresh</th>\n",
       "      <th>Milk</th>\n",
       "      <th>Grocery</th>\n",
       "      <th>Frozen</th>\n",
       "      <th>Detergents_Paper</th>\n",
       "      <th>Delicassen</th>\n",
       "    </tr>\n",
       "  </thead>\n",
       "  <tbody>\n",
       "    <tr>\n",
       "      <th>count</th>\n",
       "      <td>440.000000</td>\n",
       "      <td>440.000000</td>\n",
       "      <td>440.000000</td>\n",
       "      <td>440.000000</td>\n",
       "      <td>440.000000</td>\n",
       "      <td>440.000000</td>\n",
       "      <td>440.000000</td>\n",
       "      <td>440.000000</td>\n",
       "    </tr>\n",
       "    <tr>\n",
       "      <th>mean</th>\n",
       "      <td>1.322727</td>\n",
       "      <td>2.543182</td>\n",
       "      <td>12000.297727</td>\n",
       "      <td>5796.265909</td>\n",
       "      <td>7951.277273</td>\n",
       "      <td>3071.931818</td>\n",
       "      <td>2881.493182</td>\n",
       "      <td>1524.870455</td>\n",
       "    </tr>\n",
       "    <tr>\n",
       "      <th>std</th>\n",
       "      <td>0.468052</td>\n",
       "      <td>0.774272</td>\n",
       "      <td>12647.328865</td>\n",
       "      <td>7380.377175</td>\n",
       "      <td>9503.162829</td>\n",
       "      <td>4854.673333</td>\n",
       "      <td>4767.854448</td>\n",
       "      <td>2820.105937</td>\n",
       "    </tr>\n",
       "    <tr>\n",
       "      <th>min</th>\n",
       "      <td>1.000000</td>\n",
       "      <td>1.000000</td>\n",
       "      <td>3.000000</td>\n",
       "      <td>55.000000</td>\n",
       "      <td>3.000000</td>\n",
       "      <td>25.000000</td>\n",
       "      <td>3.000000</td>\n",
       "      <td>3.000000</td>\n",
       "    </tr>\n",
       "    <tr>\n",
       "      <th>25%</th>\n",
       "      <td>1.000000</td>\n",
       "      <td>2.000000</td>\n",
       "      <td>3127.750000</td>\n",
       "      <td>1533.000000</td>\n",
       "      <td>2153.000000</td>\n",
       "      <td>742.250000</td>\n",
       "      <td>256.750000</td>\n",
       "      <td>408.250000</td>\n",
       "    </tr>\n",
       "    <tr>\n",
       "      <th>50%</th>\n",
       "      <td>1.000000</td>\n",
       "      <td>3.000000</td>\n",
       "      <td>8504.000000</td>\n",
       "      <td>3627.000000</td>\n",
       "      <td>4755.500000</td>\n",
       "      <td>1526.000000</td>\n",
       "      <td>816.500000</td>\n",
       "      <td>965.500000</td>\n",
       "    </tr>\n",
       "    <tr>\n",
       "      <th>75%</th>\n",
       "      <td>2.000000</td>\n",
       "      <td>3.000000</td>\n",
       "      <td>16933.750000</td>\n",
       "      <td>7190.250000</td>\n",
       "      <td>10655.750000</td>\n",
       "      <td>3554.250000</td>\n",
       "      <td>3922.000000</td>\n",
       "      <td>1820.250000</td>\n",
       "    </tr>\n",
       "    <tr>\n",
       "      <th>max</th>\n",
       "      <td>2.000000</td>\n",
       "      <td>3.000000</td>\n",
       "      <td>112151.000000</td>\n",
       "      <td>73498.000000</td>\n",
       "      <td>92780.000000</td>\n",
       "      <td>60869.000000</td>\n",
       "      <td>40827.000000</td>\n",
       "      <td>47943.000000</td>\n",
       "    </tr>\n",
       "  </tbody>\n",
       "</table>\n",
       "</div>"
      ],
      "text/plain": [
       "          Channel      Region          Fresh          Milk       Grocery  \\\n",
       "count  440.000000  440.000000     440.000000    440.000000    440.000000   \n",
       "mean     1.322727    2.543182   12000.297727   5796.265909   7951.277273   \n",
       "std      0.468052    0.774272   12647.328865   7380.377175   9503.162829   \n",
       "min      1.000000    1.000000       3.000000     55.000000      3.000000   \n",
       "25%      1.000000    2.000000    3127.750000   1533.000000   2153.000000   \n",
       "50%      1.000000    3.000000    8504.000000   3627.000000   4755.500000   \n",
       "75%      2.000000    3.000000   16933.750000   7190.250000  10655.750000   \n",
       "max      2.000000    3.000000  112151.000000  73498.000000  92780.000000   \n",
       "\n",
       "             Frozen  Detergents_Paper    Delicassen  \n",
       "count    440.000000        440.000000    440.000000  \n",
       "mean    3071.931818       2881.493182   1524.870455  \n",
       "std     4854.673333       4767.854448   2820.105937  \n",
       "min       25.000000          3.000000      3.000000  \n",
       "25%      742.250000        256.750000    408.250000  \n",
       "50%     1526.000000        816.500000    965.500000  \n",
       "75%     3554.250000       3922.000000   1820.250000  \n",
       "max    60869.000000      40827.000000  47943.000000  "
      ]
     },
     "execution_count": 5,
     "metadata": {},
     "output_type": "execute_result"
    }
   ],
   "source": [
    "df.describe()"
   ]
  },
  {
   "cell_type": "markdown",
   "metadata": {},
   "source": [
    "obtaining the datatypes"
   ]
  },
  {
   "cell_type": "code",
   "execution_count": 6,
   "metadata": {},
   "outputs": [
    {
     "data": {
      "text/plain": [
       "Channel             int64\n",
       "Region              int64\n",
       "Fresh               int64\n",
       "Milk                int64\n",
       "Grocery             int64\n",
       "Frozen              int64\n",
       "Detergents_Paper    int64\n",
       "Delicassen          int64\n",
       "dtype: object"
      ]
     },
     "execution_count": 6,
     "metadata": {},
     "output_type": "execute_result"
    }
   ],
   "source": [
    "df.dtypes"
   ]
  },
  {
   "cell_type": "markdown",
   "metadata": {},
   "source": [
    "# Checking for Missing Values "
   ]
  },
  {
   "cell_type": "code",
   "execution_count": 7,
   "metadata": {},
   "outputs": [
    {
     "data": {
      "text/plain": [
       "Channel             0\n",
       "Region              0\n",
       "Fresh               0\n",
       "Milk                0\n",
       "Grocery             0\n",
       "Frozen              0\n",
       "Detergents_Paper    0\n",
       "Delicassen          0\n",
       "dtype: int64"
      ]
     },
     "execution_count": 7,
     "metadata": {},
     "output_type": "execute_result"
    }
   ],
   "source": [
    "df.isnull().sum()"
   ]
  },
  {
   "cell_type": "markdown",
   "metadata": {},
   "source": [
    "No missing values in the dataset"
   ]
  },
  {
   "cell_type": "code",
   "execution_count": 8,
   "metadata": {},
   "outputs": [
    {
     "data": {
      "text/plain": [
       "array([3, 1, 2], dtype=int64)"
      ]
     },
     "execution_count": 8,
     "metadata": {},
     "output_type": "execute_result"
    }
   ],
   "source": [
    "df['Region'].unique()"
   ]
  },
  {
   "cell_type": "code",
   "execution_count": 9,
   "metadata": {},
   "outputs": [
    {
     "data": {
      "text/plain": [
       "array([2, 1], dtype=int64)"
      ]
     },
     "execution_count": 9,
     "metadata": {},
     "output_type": "execute_result"
    }
   ],
   "source": [
    "df['Channel'].unique()"
   ]
  },
  {
   "cell_type": "code",
   "execution_count": 10,
   "metadata": {},
   "outputs": [],
   "source": [
    "data = df.copy()\n",
    "#converting channel and region to categorical variables\n",
    "data['Channel'] = data['Channel'].map({1:'Horeca', 2:'Retail'})\n",
    "data['Region'].replace([1,2,3],['Lisbon','Oporto','other'],inplace=True)"
   ]
  },
  {
   "cell_type": "code",
   "execution_count": 11,
   "metadata": {},
   "outputs": [
    {
     "data": {
      "text/html": [
       "<div>\n",
       "<style scoped>\n",
       "    .dataframe tbody tr th:only-of-type {\n",
       "        vertical-align: middle;\n",
       "    }\n",
       "\n",
       "    .dataframe tbody tr th {\n",
       "        vertical-align: top;\n",
       "    }\n",
       "\n",
       "    .dataframe thead th {\n",
       "        text-align: right;\n",
       "    }\n",
       "</style>\n",
       "<table border=\"1\" class=\"dataframe\">\n",
       "  <thead>\n",
       "    <tr style=\"text-align: right;\">\n",
       "      <th></th>\n",
       "      <th>Channel</th>\n",
       "      <th>Region</th>\n",
       "      <th>Fresh</th>\n",
       "      <th>Milk</th>\n",
       "      <th>Grocery</th>\n",
       "      <th>Frozen</th>\n",
       "      <th>Detergents_Paper</th>\n",
       "      <th>Delicassen</th>\n",
       "    </tr>\n",
       "  </thead>\n",
       "  <tbody>\n",
       "    <tr>\n",
       "      <th>0</th>\n",
       "      <td>Retail</td>\n",
       "      <td>other</td>\n",
       "      <td>12669</td>\n",
       "      <td>9656</td>\n",
       "      <td>7561</td>\n",
       "      <td>214</td>\n",
       "      <td>2674</td>\n",
       "      <td>1338</td>\n",
       "    </tr>\n",
       "    <tr>\n",
       "      <th>1</th>\n",
       "      <td>Retail</td>\n",
       "      <td>other</td>\n",
       "      <td>7057</td>\n",
       "      <td>9810</td>\n",
       "      <td>9568</td>\n",
       "      <td>1762</td>\n",
       "      <td>3293</td>\n",
       "      <td>1776</td>\n",
       "    </tr>\n",
       "  </tbody>\n",
       "</table>\n",
       "</div>"
      ],
      "text/plain": [
       "  Channel Region  Fresh  Milk  Grocery  Frozen  Detergents_Paper  Delicassen\n",
       "0  Retail  other  12669  9656     7561     214              2674        1338\n",
       "1  Retail  other   7057  9810     9568    1762              3293        1776"
      ]
     },
     "execution_count": 11,
     "metadata": {},
     "output_type": "execute_result"
    }
   ],
   "source": [
    "data.head(2)"
   ]
  },
  {
   "cell_type": "markdown",
   "metadata": {},
   "source": [
    "# EDA"
   ]
  },
  {
   "cell_type": "code",
   "execution_count": 12,
   "metadata": {},
   "outputs": [
    {
     "data": {
      "image/png": "[encoded data removed]",
      "text/plain": [
       "<Figure size 504x504 with 1 Axes>"
      ]
     },
     "metadata": {},
     "output_type": "display_data"
    }
   ],
   "source": [
    "labels =data['Channel'].value_counts(sort = True).index\n",
    "sizes = data['Channel'].value_counts(sort = True)\n",
    " \n",
    "colors = [\"orange\",\"red\"]\n",
    "explode = (0.05,0) \n",
    "  \n",
    "plt.figure(figsize=(7,7))\n",
    "plt.pie(sizes, explode=explode, labels=labels, colors=colors, autopct='%1.1f%%', shadow=True, startangle=90,)\n",
    " \n",
    "plt.title('Percentage of Channel (Horeca-hotel/restaurant/cafe) and Retail')\n",
    "plt.show()"
   ]
  },
  {
   "cell_type": "markdown",
   "metadata": {},
   "source": [
    "67.7% of the data is of channel Horeca whereas 32.2% of the data is of channel Retail"
   ]
  },
  {
   "cell_type": "code",
   "execution_count": 13,
   "metadata": {},
   "outputs": [
    {
     "data": {
      "image/png": "[encoded data removed]",
      "text/plain": [
       "<Figure size 1080x576 with 2 Axes>"
      ]
     },
     "metadata": {
      "needs_background": "light"
     },
     "output_type": "display_data"
    }
   ],
   "source": [
    "plt.figure(figsize=(15,8))\n",
    "sns.heatmap(df.corr(), annot=True)\n",
    "plt.show()"
   ]
  },
  {
   "cell_type": "code",
   "execution_count": 14,
   "metadata": {},
   "outputs": [
    {
     "name": "stdout",
     "output_type": "stream",
     "text": [
      "other     316\n",
      "Lisbon     77\n",
      "Oporto     47\n",
      "Name: Region, dtype: int64\n"
     ]
    },
    {
     "data": {
      "image/png": "[encoded data removed]",
      "text/plain": [
       "<Figure size 576x360 with 1 Axes>"
      ]
     },
     "metadata": {
      "needs_background": "light"
     },
     "output_type": "display_data"
    }
   ],
   "source": [
    "u1=data.Region.value_counts()\n",
    "print(u1)\n",
    "Region_name = data.Region.value_counts().index\n",
    "Region_size = data.Region.value_counts().values\n",
    "\n",
    "fig,ax=plt.subplots(figsize=(8,5))\n",
    "ax.bar(Region_name, Region_size, data=data)\n",
    "ax.set_ylabel('Number of counts')\n",
    "for p in ax.patches:\n",
    "    an=ax.annotate(str(p.get_height()), xy=(p.get_x(),p.get_height()))\n",
    "    an.set_size(12)"
   ]
  },
  {
   "cell_type": "code",
   "execution_count": 15,
   "metadata": {},
   "outputs": [
    {
     "name": "stdout",
     "output_type": "stream",
     "text": [
      "Horeca    298\n",
      "Retail    142\n",
      "Name: Channel, dtype: int64\n"
     ]
    },
    {
     "data": {
      "image/png": "[encoded data removed]",
      "text/plain": [
       "<Figure size 576x360 with 1 Axes>"
      ]
     },
     "metadata": {
      "needs_background": "light"
     },
     "output_type": "display_data"
    }
   ],
   "source": [
    "u2=data.Channel.value_counts()\n",
    "print(u2)\n",
    "Channel_name = data.Channel.value_counts().index\n",
    "Channel_size = data.Channel.value_counts().values\n",
    "\n",
    "fig,ax=plt.subplots(figsize=(8,5))\n",
    "ax.bar(Channel_name, Channel_size, data=data)\n",
    "ax.set_ylabel('Number of counts')\n",
    "for p in ax.patches:\n",
    "    an=ax.annotate(str(p.get_height()), xy=(p.get_x(),p.get_height()))\n",
    "    an.set_size(12)"
   ]
  },
  {
   "cell_type": "code",
   "execution_count": 16,
   "metadata": {},
   "outputs": [
    {
     "data": {
      "image/png": "[encoded data removed]",
      "text/plain": [
       "<Figure size 432x288 with 1 Axes>"
      ]
     },
     "metadata": {
      "needs_background": "light"
     },
     "output_type": "display_data"
    },
    {
     "name": "stdout",
     "output_type": "stream",
     "text": [
      "Region   Lisbon  Oporto  other\n",
      "Channel                       \n",
      "Horeca       59      28    211\n",
      "Retail       18      19    105\n"
     ]
    }
   ],
   "source": [
    "def categorical_multi(i,j):\n",
    "    pd.crosstab(data[i],data[j]).plot(kind='bar')\n",
    "    plt.show()\n",
    "    print(pd.crosstab(data[i],data[j]))\n",
    "\n",
    "categorical_multi(i='Channel',j='Region') "
   ]
  },
  {
   "cell_type": "code",
   "execution_count": 17,
   "metadata": {
    "scrolled": false
   },
   "outputs": [
    {
     "name": "stdout",
     "output_type": "stream",
     "text": [
      "Channel              0.760951\n",
      "Region              -1.283627\n",
      "Fresh                2.561323\n",
      "Milk                 4.053755\n",
      "Grocery              3.587429\n",
      "Frozen               5.907986\n",
      "Detergents_Paper     3.631851\n",
      "Delicassen          11.151586\n",
      "dtype: float64\n"
     ]
    },
    {
     "data": {
      "image/png": "[encoded data removed]",
      "text/plain": [
       "<Figure size 432x288 with 1 Axes>"
      ]
     },
     "metadata": {
      "needs_background": "light"
     },
     "output_type": "display_data"
    },
    {
     "data": {
      "image/png": "[encoded data removed]",
      "text/plain": [
       "<Figure size 432x288 with 1 Axes>"
      ]
     },
     "metadata": {
      "needs_background": "light"
     },
     "output_type": "display_data"
    },
    {
     "data": {
      "image/png": "[encoded data removed]",
      "text/plain": [
       "<Figure size 432x288 with 1 Axes>"
      ]
     },
     "metadata": {
      "needs_background": "light"
     },
     "output_type": "display_data"
    },
    {
     "data": {
      "image/png": "[encoded data removed]",
      "text/plain": [
       "<Figure size 432x288 with 1 Axes>"
      ]
     },
     "metadata": {
      "needs_background": "light"
     },
     "output_type": "display_data"
    },
    {
     "data": {
      "image/png": "[encoded data removed]",
      "text/plain": [
       "<Figure size 432x288 with 1 Axes>"
      ]
     },
     "metadata": {
      "needs_background": "light"
     },
     "output_type": "display_data"
    },
    {
     "data": {
      "image/png": "[encoded data removed]",
      "text/plain": [
       "<Figure size 432x288 with 1 Axes>"
      ]
     },
     "metadata": {
      "needs_background": "light"
     },
     "output_type": "display_data"
    },
    {
     "data": {
      "image/png": "[encoded data removed]",
      "text/plain": [
       "<Figure size 432x288 with 1 Axes>"
      ]
     },
     "metadata": {
      "needs_background": "light"
     },
     "output_type": "display_data"
    },
    {
     "data": {
      "image/png": "[encoded data removed]",
      "text/plain": [
       "<Figure size 432x288 with 1 Axes>"
      ]
     },
     "metadata": {
      "needs_background": "light"
     },
     "output_type": "display_data"
    }
   ],
   "source": [
    "print(df.skew())\n",
    "\n",
    "for i in df.columns:\n",
    "    sns.distplot(df[i])\n",
    "    plt.show()"
   ]
  },
  {
   "cell_type": "code",
   "execution_count": 18,
   "metadata": {},
   "outputs": [
    {
     "data": {
      "text/plain": [
       "<Figure size 1440x1440 with 0 Axes>"
      ]
     },
     "metadata": {},
     "output_type": "display_data"
    },
    {
     "data": {
      "image/png": "[encoded data removed]",
      "text/plain": [
       "<Figure size 1440x1440 with 72 Axes>"
      ]
     },
     "metadata": {
      "needs_background": "light"
     },
     "output_type": "display_data"
    }
   ],
   "source": [
    "fig = plt.figure(figsize=(20,20))\n",
    "sns.pairplot(df)\n",
    "plt.show()"
   ]
  },
  {
   "cell_type": "code",
   "execution_count": 19,
   "metadata": {},
   "outputs": [
    {
     "data": {
      "image/png": "[encoded data removed]",
      "text/plain": [
       "<Figure size 504x504 with 1 Axes>"
      ]
     },
     "metadata": {
      "needs_background": "light"
     },
     "output_type": "display_data"
    }
   ],
   "source": [
    "fig = plt.figure(figsize=(7,7))\n",
    "graph = sns.scatterplot(data=data, x=\"Milk\", y=\"Grocery\", hue='Region')\n",
    "plt.show()"
   ]
  },
  {
   "cell_type": "markdown",
   "metadata": {},
   "source": [
    "# Data Preprocessing"
   ]
  },
  {
   "cell_type": "code",
   "execution_count": 13,
   "metadata": {},
   "outputs": [
    {
     "data": {
      "text/html": [
       "<div>\n",
       "<style scoped>\n",
       "    .dataframe tbody tr th:only-of-type {\n",
       "        vertical-align: middle;\n",
       "    }\n",
       "\n",
       "    .dataframe tbody tr th {\n",
       "        vertical-align: top;\n",
       "    }\n",
       "\n",
       "    .dataframe thead th {\n",
       "        text-align: right;\n",
       "    }\n",
       "</style>\n",
       "<table border=\"1\" class=\"dataframe\">\n",
       "  <thead>\n",
       "    <tr style=\"text-align: right;\">\n",
       "      <th></th>\n",
       "      <th>Fresh</th>\n",
       "      <th>Milk</th>\n",
       "      <th>Grocery</th>\n",
       "      <th>Frozen</th>\n",
       "      <th>Detergents_Paper</th>\n",
       "      <th>Delicassen</th>\n",
       "    </tr>\n",
       "  </thead>\n",
       "  <tbody>\n",
       "    <tr>\n",
       "      <th>0</th>\n",
       "      <td>9.446913</td>\n",
       "      <td>9.175335</td>\n",
       "      <td>8.930759</td>\n",
       "      <td>5.365976</td>\n",
       "      <td>7.891331</td>\n",
       "      <td>7.198931</td>\n",
       "    </tr>\n",
       "    <tr>\n",
       "      <th>1</th>\n",
       "      <td>8.861775</td>\n",
       "      <td>9.191158</td>\n",
       "      <td>9.166179</td>\n",
       "      <td>7.474205</td>\n",
       "      <td>8.099554</td>\n",
       "      <td>7.482119</td>\n",
       "    </tr>\n",
       "    <tr>\n",
       "      <th>2</th>\n",
       "      <td>8.756682</td>\n",
       "      <td>9.083416</td>\n",
       "      <td>8.946896</td>\n",
       "      <td>7.785305</td>\n",
       "      <td>8.165079</td>\n",
       "      <td>8.967504</td>\n",
       "    </tr>\n",
       "  </tbody>\n",
       "</table>\n",
       "</div>"
      ],
      "text/plain": [
       "      Fresh      Milk   Grocery    Frozen  Detergents_Paper  Delicassen\n",
       "0  9.446913  9.175335  8.930759  5.365976          7.891331    7.198931\n",
       "1  8.861775  9.191158  9.166179  7.474205          8.099554    7.482119\n",
       "2  8.756682  9.083416  8.946896  7.785305          8.165079    8.967504"
      ]
     },
     "execution_count": 13,
     "metadata": {},
     "output_type": "execute_result"
    }
   ],
   "source": [
    "#Data Transformation\n",
    "log_data = np.log(data[['Fresh','Milk','Grocery','Frozen','Detergents_Paper','Delicassen']].copy())\n",
    "log_data.head(3)"
   ]
  },
  {
   "cell_type": "code",
   "execution_count": 20,
   "metadata": {},
   "outputs": [
    {
     "data": {
      "image/png": "[encoded data removed]",
      "text/plain": [
       "<Figure size 1080x576 with 6 Axes>"
      ]
     },
     "metadata": {
      "needs_background": "light"
     },
     "output_type": "display_data"
    }
   ],
   "source": [
    "#checking for outliers\n",
    "df_num = df.select_dtypes(include=np.number)#drop(['Channel', 'Region'], axis = 1)\n",
    "fig, ax = plt.subplots(nrows = 2, ncols = 3, figsize=(15, 8))\n",
    "for variable, subplot in zip(df_num.columns, ax.flatten()):\n",
    "    sns.boxplot(df[variable], ax = subplot)\n",
    "plt.show()"
   ]
  },
  {
   "cell_type": "markdown",
   "metadata": {},
   "source": [
    "outliers present in all the numeric columns"
   ]
  },
  {
   "cell_type": "code",
   "execution_count": 21,
   "metadata": {},
   "outputs": [],
   "source": [
    "#seperating categorical variables\n",
    "df_cat=data.select_dtypes(include='object')\n",
    "\n",
    "#seperating numeric variables\n",
    "df_num=data.select_dtypes(include=np.number)"
   ]
  },
  {
   "cell_type": "raw",
   "metadata": {},
   "source": [
    "#Encoding categorical variables\n",
    "dummy_var=pd.get_dummies(df_cat)\n",
    "dummy_var.head()"
   ]
  },
  {
   "cell_type": "raw",
   "metadata": {},
   "source": [
    "#concatinating the numeric and dummy variables\n",
    "df1=pd.concat([df_num,dummy_var],axis=1)  \n",
    "df1.head()"
   ]
  },
  {
   "cell_type": "code",
   "execution_count": 32,
   "metadata": {},
   "outputs": [
    {
     "data": {
      "text/plain": [
       "Index(['Channel', 'Region', 'Fresh', 'Milk', 'Grocery', 'Frozen',\n",
       "       'Detergents_Paper', 'Delicassen', 'cluster'],\n",
       "      dtype='object')"
      ]
     },
     "execution_count": 32,
     "metadata": {},
     "output_type": "execute_result"
    }
   ],
   "source": [
    "df.columns"
   ]
  },
  {
   "cell_type": "code",
   "execution_count": 22,
   "metadata": {
    "scrolled": true
   },
   "outputs": [
    {
     "data": {
      "text/html": [
       "<div>\n",
       "<style scoped>\n",
       "    .dataframe tbody tr th:only-of-type {\n",
       "        vertical-align: middle;\n",
       "    }\n",
       "\n",
       "    .dataframe tbody tr th {\n",
       "        vertical-align: top;\n",
       "    }\n",
       "\n",
       "    .dataframe thead th {\n",
       "        text-align: right;\n",
       "    }\n",
       "</style>\n",
       "<table border=\"1\" class=\"dataframe\">\n",
       "  <thead>\n",
       "    <tr style=\"text-align: right;\">\n",
       "      <th></th>\n",
       "      <th>Fresh</th>\n",
       "      <th>Milk</th>\n",
       "      <th>Grocery</th>\n",
       "      <th>Frozen</th>\n",
       "      <th>Detergents_Paper</th>\n",
       "      <th>Delicassen</th>\n",
       "    </tr>\n",
       "  </thead>\n",
       "  <tbody>\n",
       "    <tr>\n",
       "      <th>0</th>\n",
       "      <td>0.052933</td>\n",
       "      <td>0.523568</td>\n",
       "      <td>-0.041115</td>\n",
       "      <td>-0.589367</td>\n",
       "      <td>-0.043569</td>\n",
       "      <td>-0.066339</td>\n",
       "    </tr>\n",
       "    <tr>\n",
       "      <th>1</th>\n",
       "      <td>-0.391302</td>\n",
       "      <td>0.544458</td>\n",
       "      <td>0.170318</td>\n",
       "      <td>-0.270136</td>\n",
       "      <td>0.086407</td>\n",
       "      <td>0.089151</td>\n",
       "    </tr>\n",
       "    <tr>\n",
       "      <th>2</th>\n",
       "      <td>-0.447029</td>\n",
       "      <td>0.408538</td>\n",
       "      <td>-0.028157</td>\n",
       "      <td>-0.137536</td>\n",
       "      <td>0.133232</td>\n",
       "      <td>2.243293</td>\n",
       "    </tr>\n",
       "    <tr>\n",
       "      <th>3</th>\n",
       "      <td>0.100111</td>\n",
       "      <td>-0.624020</td>\n",
       "      <td>-0.392977</td>\n",
       "      <td>0.687144</td>\n",
       "      <td>-0.498588</td>\n",
       "      <td>0.093411</td>\n",
       "    </tr>\n",
       "    <tr>\n",
       "      <th>4</th>\n",
       "      <td>0.840239</td>\n",
       "      <td>-0.052396</td>\n",
       "      <td>-0.079356</td>\n",
       "      <td>0.173859</td>\n",
       "      <td>-0.231918</td>\n",
       "      <td>1.299347</td>\n",
       "    </tr>\n",
       "  </tbody>\n",
       "</table>\n",
       "</div>"
      ],
      "text/plain": [
       "      Fresh      Milk   Grocery    Frozen  Detergents_Paper  Delicassen\n",
       "0  0.052933  0.523568 -0.041115 -0.589367         -0.043569   -0.066339\n",
       "1 -0.391302  0.544458  0.170318 -0.270136          0.086407    0.089151\n",
       "2 -0.447029  0.408538 -0.028157 -0.137536          0.133232    2.243293\n",
       "3  0.100111 -0.624020 -0.392977  0.687144         -0.498588    0.093411\n",
       "4  0.840239 -0.052396 -0.079356  0.173859         -0.231918    1.299347"
      ]
     },
     "execution_count": 22,
     "metadata": {},
     "output_type": "execute_result"
    }
   ],
   "source": [
    "#Feature Scaling\n",
    "from sklearn.preprocessing import StandardScaler\n",
    "features = df[[ 'Fresh', 'Milk', 'Grocery', 'Frozen',\n",
    "       'Detergents_Paper', 'Delicassen']]\n",
    "ss=StandardScaler()\n",
    "xs=ss.fit_transform(features)\n",
    "xs=pd.DataFrame(xs,columns=features.columns)\n",
    "xs.head()"
   ]
  },
  {
   "cell_type": "markdown",
   "metadata": {},
   "source": [
    "# Clustering"
   ]
  },
  {
   "cell_type": "markdown",
   "metadata": {},
   "source": [
    "### Hierarchical clustering"
   ]
  },
  {
   "cell_type": "code",
   "execution_count": 23,
   "metadata": {},
   "outputs": [
    {
     "data": {
      "image/png": "[encoded data removed]",
      "text/plain": [
       "<Figure size 1080x360 with 1 Axes>"
      ]
     },
     "metadata": {
      "needs_background": "light"
     },
     "output_type": "display_data"
    }
   ],
   "source": [
    "from scipy.cluster.hierarchy import linkage,dendrogram,cut_tree\n",
    "\n",
    "plt.figure(figsize=(15,5))\n",
    "\n",
    "clus=linkage(xs,metric='euclidean',method='complete')\n",
    "#print(clus[0:5])\n",
    "dendro=dendrogram(clus,truncate_mode='lastp')\n",
    "\n",
    "for i, d, c in zip(dendro['icoord'], dendro['dcoord'], dendro['color_list']):\n",
    "    x = sum(i[1:3])/2 \n",
    "    y = d[1]\n",
    "    if y > 20:\n",
    "        plt.plot(x, y, 'o', c=c)\n",
    "        plt.annotate(\"%.3g\" % y, (x, y), xytext=(0, -5), textcoords='offset points', va='top', ha='center')\n",
    "\n",
    "\n",
    "\n",
    "plt.xlabel('hclust(index)')\n",
    "plt.ylabel('distance')\n",
    "plt.title('cluster dendogram')\n",
    "plt.show()"
   ]
  },
  {
   "cell_type": "markdown",
   "metadata": {},
   "source": [
    "The different colors indicate  different clusters,there are 3 clusters"
   ]
  },
  {
   "cell_type": "code",
   "execution_count": 24,
   "metadata": {},
   "outputs": [
    {
     "name": "stdout",
     "output_type": "stream",
     "text": [
      "0.8382968943303105\n"
     ]
    }
   ],
   "source": [
    "from sklearn.metrics.pairwise import euclidean_distances\n",
    "from scipy.cluster.hierarchy import cophenet\n",
    "eucli_dist = euclidean_distances(xs)\n",
    "dist_array = eucli_dist[np.triu_indices(440, k = 1)]\n",
    "coeff, cophenet_dist = cophenet(clus, dist_array)\n",
    "print(coeff)"
   ]
  },
  {
   "cell_type": "markdown",
   "metadata": {},
   "source": [
    "The value of cophenetic correlation coefficient is 0.8382. The value is not close to 1 indicates a best linkage quality. Therefore the linkage is good."
   ]
  },
  {
   "cell_type": "code",
   "execution_count": 25,
   "metadata": {},
   "outputs": [
    {
     "data": {
      "text/plain": [
       "0    429\n",
       "1     10\n",
       "2      1\n",
       "dtype: int64"
      ]
     },
     "execution_count": 25,
     "metadata": {},
     "output_type": "execute_result"
    }
   ],
   "source": [
    "clustercut=pd.Series(cut_tree(clus,n_clusters=3).reshape(-1,))\n",
    "clustercut.value_counts()"
   ]
  },
  {
   "cell_type": "code",
   "execution_count": 116,
   "metadata": {},
   "outputs": [],
   "source": [
    "df['cluster']=clustercut"
   ]
  },
  {
   "cell_type": "code",
   "execution_count": 117,
   "metadata": {},
   "outputs": [
    {
     "data": {
      "text/html": [
       "<div>\n",
       "<style scoped>\n",
       "    .dataframe tbody tr th:only-of-type {\n",
       "        vertical-align: middle;\n",
       "    }\n",
       "\n",
       "    .dataframe tbody tr th {\n",
       "        vertical-align: top;\n",
       "    }\n",
       "\n",
       "    .dataframe thead th {\n",
       "        text-align: right;\n",
       "    }\n",
       "</style>\n",
       "<table border=\"1\" class=\"dataframe\">\n",
       "  <thead>\n",
       "    <tr style=\"text-align: right;\">\n",
       "      <th></th>\n",
       "      <th>Channel</th>\n",
       "      <th>Region</th>\n",
       "      <th>Fresh</th>\n",
       "      <th>Milk</th>\n",
       "      <th>Grocery</th>\n",
       "      <th>Frozen</th>\n",
       "      <th>Detergents_Paper</th>\n",
       "      <th>Delicassen</th>\n",
       "      <th>cluster</th>\n",
       "      <th>Cluster_DBSCAN</th>\n",
       "      <th>Cluster_km</th>\n",
       "    </tr>\n",
       "  </thead>\n",
       "  <tbody>\n",
       "    <tr>\n",
       "      <th>0</th>\n",
       "      <td>1</td>\n",
       "      <td>3</td>\n",
       "      <td>12669</td>\n",
       "      <td>9656</td>\n",
       "      <td>7561</td>\n",
       "      <td>214</td>\n",
       "      <td>2674</td>\n",
       "      <td>1338</td>\n",
       "      <td>0</td>\n",
       "      <td>0</td>\n",
       "      <td>0</td>\n",
       "    </tr>\n",
       "    <tr>\n",
       "      <th>1</th>\n",
       "      <td>1</td>\n",
       "      <td>3</td>\n",
       "      <td>7057</td>\n",
       "      <td>9810</td>\n",
       "      <td>9568</td>\n",
       "      <td>1762</td>\n",
       "      <td>3293</td>\n",
       "      <td>1776</td>\n",
       "      <td>0</td>\n",
       "      <td>0</td>\n",
       "      <td>3</td>\n",
       "    </tr>\n",
       "    <tr>\n",
       "      <th>2</th>\n",
       "      <td>1</td>\n",
       "      <td>3</td>\n",
       "      <td>6353</td>\n",
       "      <td>8808</td>\n",
       "      <td>7684</td>\n",
       "      <td>2405</td>\n",
       "      <td>3516</td>\n",
       "      <td>7844</td>\n",
       "      <td>0</td>\n",
       "      <td>-1</td>\n",
       "      <td>3</td>\n",
       "    </tr>\n",
       "    <tr>\n",
       "      <th>3</th>\n",
       "      <td>0</td>\n",
       "      <td>3</td>\n",
       "      <td>13265</td>\n",
       "      <td>1196</td>\n",
       "      <td>4221</td>\n",
       "      <td>6404</td>\n",
       "      <td>507</td>\n",
       "      <td>1788</td>\n",
       "      <td>0</td>\n",
       "      <td>0</td>\n",
       "      <td>0</td>\n",
       "    </tr>\n",
       "    <tr>\n",
       "      <th>4</th>\n",
       "      <td>1</td>\n",
       "      <td>3</td>\n",
       "      <td>22615</td>\n",
       "      <td>5410</td>\n",
       "      <td>7198</td>\n",
       "      <td>3915</td>\n",
       "      <td>1777</td>\n",
       "      <td>5185</td>\n",
       "      <td>0</td>\n",
       "      <td>-1</td>\n",
       "      <td>2</td>\n",
       "    </tr>\n",
       "  </tbody>\n",
       "</table>\n",
       "</div>"
      ],
      "text/plain": [
       "   Channel  Region  Fresh  Milk  Grocery  Frozen  Detergents_Paper  \\\n",
       "0        1       3  12669  9656     7561     214              2674   \n",
       "1        1       3   7057  9810     9568    1762              3293   \n",
       "2        1       3   6353  8808     7684    2405              3516   \n",
       "3        0       3  13265  1196     4221    6404               507   \n",
       "4        1       3  22615  5410     7198    3915              1777   \n",
       "\n",
       "   Delicassen  cluster  Cluster_DBSCAN  Cluster_km  \n",
       "0        1338        0               0           0  \n",
       "1        1776        0               0           3  \n",
       "2        7844        0              -1           3  \n",
       "3        1788        0               0           0  \n",
       "4        5185        0              -1           2  "
      ]
     },
     "execution_count": 117,
     "metadata": {},
     "output_type": "execute_result"
    }
   ],
   "source": [
    "df.head()"
   ]
  },
  {
   "cell_type": "code",
   "execution_count": 118,
   "metadata": {},
   "outputs": [
    {
     "data": {
      "text/html": [
       "<div>\n",
       "<style scoped>\n",
       "    .dataframe tbody tr th:only-of-type {\n",
       "        vertical-align: middle;\n",
       "    }\n",
       "\n",
       "    .dataframe tbody tr th {\n",
       "        vertical-align: top;\n",
       "    }\n",
       "\n",
       "    .dataframe thead th {\n",
       "        text-align: right;\n",
       "    }\n",
       "</style>\n",
       "<table border=\"1\" class=\"dataframe\">\n",
       "  <thead>\n",
       "    <tr style=\"text-align: right;\">\n",
       "      <th></th>\n",
       "      <th>Channel</th>\n",
       "      <th>Region</th>\n",
       "      <th>Fresh</th>\n",
       "      <th>Milk</th>\n",
       "      <th>Grocery</th>\n",
       "      <th>Frozen</th>\n",
       "      <th>Detergents_Paper</th>\n",
       "      <th>Delicassen</th>\n",
       "      <th>Cluster_DBSCAN</th>\n",
       "      <th>Cluster_km</th>\n",
       "    </tr>\n",
       "    <tr>\n",
       "      <th>cluster</th>\n",
       "      <th></th>\n",
       "      <th></th>\n",
       "      <th></th>\n",
       "      <th></th>\n",
       "      <th></th>\n",
       "      <th></th>\n",
       "      <th></th>\n",
       "      <th></th>\n",
       "      <th></th>\n",
       "      <th></th>\n",
       "    </tr>\n",
       "  </thead>\n",
       "  <tbody>\n",
       "    <tr>\n",
       "      <th>0</th>\n",
       "      <td>0.307692</td>\n",
       "      <td>2.543124</td>\n",
       "      <td>11849.965035</td>\n",
       "      <td>5033.384615</td>\n",
       "      <td>6976.74359</td>\n",
       "      <td>2994.335664</td>\n",
       "      <td>2374.979021</td>\n",
       "      <td>1383.617716</td>\n",
       "      <td>-0.195804</td>\n",
       "      <td>0.965035</td>\n",
       "    </tr>\n",
       "    <tr>\n",
       "      <th>1</th>\n",
       "      <td>1.000000</td>\n",
       "      <td>2.500000</td>\n",
       "      <td>15964.900000</td>\n",
       "      <td>34708.500000</td>\n",
       "      <td>48536.90000</td>\n",
       "      <td>3054.600000</td>\n",
       "      <td>24875.200000</td>\n",
       "      <td>2942.800000</td>\n",
       "      <td>-1.000000</td>\n",
       "      <td>4.000000</td>\n",
       "    </tr>\n",
       "    <tr>\n",
       "      <th>2</th>\n",
       "      <td>0.000000</td>\n",
       "      <td>3.000000</td>\n",
       "      <td>36847.000000</td>\n",
       "      <td>43950.000000</td>\n",
       "      <td>20170.00000</td>\n",
       "      <td>36534.000000</td>\n",
       "      <td>239.000000</td>\n",
       "      <td>47943.000000</td>\n",
       "      <td>-1.000000</td>\n",
       "      <td>1.000000</td>\n",
       "    </tr>\n",
       "  </tbody>\n",
       "</table>\n",
       "</div>"
      ],
      "text/plain": [
       "          Channel    Region         Fresh          Milk      Grocery  \\\n",
       "cluster                                                                \n",
       "0        0.307692  2.543124  11849.965035   5033.384615   6976.74359   \n",
       "1        1.000000  2.500000  15964.900000  34708.500000  48536.90000   \n",
       "2        0.000000  3.000000  36847.000000  43950.000000  20170.00000   \n",
       "\n",
       "               Frozen  Detergents_Paper    Delicassen  Cluster_DBSCAN  \\\n",
       "cluster                                                                 \n",
       "0         2994.335664       2374.979021   1383.617716       -0.195804   \n",
       "1         3054.600000      24875.200000   2942.800000       -1.000000   \n",
       "2        36534.000000        239.000000  47943.000000       -1.000000   \n",
       "\n",
       "         Cluster_km  \n",
       "cluster              \n",
       "0          0.965035  \n",
       "1          4.000000  \n",
       "2          1.000000  "
      ]
     },
     "execution_count": 118,
     "metadata": {},
     "output_type": "execute_result"
    }
   ],
   "source": [
    "df.groupby('cluster').agg('mean')"
   ]
  },
  {
   "cell_type": "markdown",
   "metadata": {},
   "source": [
    "#### Agglomerative Clustering"
   ]
  },
  {
   "cell_type": "code",
   "execution_count": 31,
   "metadata": {},
   "outputs": [
    {
     "data": {
      "image/png": "[encoded data removed]",
      "text/plain": [
       "<Figure size 432x288 with 1 Axes>"
      ]
     },
     "metadata": {
      "needs_background": "light"
     },
     "output_type": "display_data"
    }
   ],
   "source": [
    "#silhouette score method to identify the optimal number of clusters\n",
    "from sklearn.metrics import silhouette_score \n",
    "from sklearn.cluster import AgglomerativeClustering\n",
    "K = [2,3,4,5,6]\n",
    "silhouette_scores = [] \n",
    "for i in K:\n",
    "    model = AgglomerativeClustering(n_clusters = i) \n",
    "    silhouette_scores.append(silhouette_score(xs, model.fit_predict(xs))) \n",
    "\n",
    "plt.bar(K, silhouette_scores) \n",
    "plt.title('Silhouette Score for Values of K', fontsize = 15)\n",
    "plt.xlabel('Number of Clusters', fontsize = 15) \n",
    "plt.ylabel('Silhouette Scores', fontsize = 15)\n",
    "plt.show()"
   ]
  },
  {
   "cell_type": "markdown",
   "metadata": {},
   "source": [
    "The above plot shows that the Silhouette score for K = 2 is the highest. This imlpies that K = 2 is the optimal value for number of clusters."
   ]
  },
  {
   "cell_type": "code",
   "execution_count": 32,
   "metadata": {},
   "outputs": [
    {
     "data": {
      "text/plain": [
       "AgglomerativeClustering(linkage='complete')"
      ]
     },
     "execution_count": 32,
     "metadata": {},
     "output_type": "execute_result"
    }
   ],
   "source": [
    "clusters = AgglomerativeClustering(n_clusters=2, linkage='complete')\n",
    "clusters.fit(xs)"
   ]
  },
  {
   "cell_type": "code",
   "execution_count": 33,
   "metadata": {},
   "outputs": [
    {
     "data": {
      "text/plain": [
       "0    429\n",
       "1     10\n",
       "2      1\n",
       "Name: cluster, dtype: int64"
      ]
     },
     "execution_count": 33,
     "metadata": {},
     "output_type": "execute_result"
    }
   ],
   "source": [
    "df['cluster'].value_counts()"
   ]
  },
  {
   "cell_type": "code",
   "execution_count": 34,
   "metadata": {},
   "outputs": [
    {
     "data": {
      "image/png": "[encoded data removed]",
      "text/plain": [
       "<Figure size 720x360 with 1 Axes>"
      ]
     },
     "metadata": {
      "needs_background": "light"
     },
     "output_type": "display_data"
    }
   ],
   "source": [
    "plt.figure(figsize=(10,5))\n",
    "sns.scatterplot(x='Fresh',y='Milk',data=xs,hue=df['cluster'])\n",
    "plt.xlabel('Fresh')\n",
    "plt.ylabel('Milk')\n",
    "plt.show()"
   ]
  },
  {
   "cell_type": "markdown",
   "metadata": {},
   "source": [
    "The largest cluster is cream"
   ]
  },
  {
   "cell_type": "code",
   "execution_count": 35,
   "metadata": {},
   "outputs": [
    {
     "data": {
      "text/html": [
       "<div>\n",
       "<style scoped>\n",
       "    .dataframe tbody tr th:only-of-type {\n",
       "        vertical-align: middle;\n",
       "    }\n",
       "\n",
       "    .dataframe tbody tr th {\n",
       "        vertical-align: top;\n",
       "    }\n",
       "\n",
       "    .dataframe thead th {\n",
       "        text-align: right;\n",
       "    }\n",
       "</style>\n",
       "<table border=\"1\" class=\"dataframe\">\n",
       "  <thead>\n",
       "    <tr style=\"text-align: right;\">\n",
       "      <th></th>\n",
       "      <th>Channel</th>\n",
       "      <th>Region</th>\n",
       "      <th>Fresh</th>\n",
       "      <th>Milk</th>\n",
       "      <th>Grocery</th>\n",
       "      <th>Frozen</th>\n",
       "      <th>Detergents_Paper</th>\n",
       "      <th>Delicassen</th>\n",
       "      <th>cluster</th>\n",
       "    </tr>\n",
       "  </thead>\n",
       "  <tbody>\n",
       "    <tr>\n",
       "      <th>count</th>\n",
       "      <td>429.000000</td>\n",
       "      <td>429.000000</td>\n",
       "      <td>429.000000</td>\n",
       "      <td>429.000000</td>\n",
       "      <td>429.000000</td>\n",
       "      <td>429.000000</td>\n",
       "      <td>429.000000</td>\n",
       "      <td>429.000000</td>\n",
       "      <td>429.0</td>\n",
       "    </tr>\n",
       "    <tr>\n",
       "      <th>mean</th>\n",
       "      <td>1.307692</td>\n",
       "      <td>2.543124</td>\n",
       "      <td>11849.965035</td>\n",
       "      <td>5033.384615</td>\n",
       "      <td>6976.743590</td>\n",
       "      <td>2994.335664</td>\n",
       "      <td>2374.979021</td>\n",
       "      <td>1383.617716</td>\n",
       "      <td>0.0</td>\n",
       "    </tr>\n",
       "    <tr>\n",
       "      <th>std</th>\n",
       "      <td>0.462077</td>\n",
       "      <td>0.774072</td>\n",
       "      <td>12564.890779</td>\n",
       "      <td>4951.258636</td>\n",
       "      <td>6630.338717</td>\n",
       "      <td>4625.931689</td>\n",
       "      <td>3210.910000</td>\n",
       "      <td>1724.776039</td>\n",
       "      <td>0.0</td>\n",
       "    </tr>\n",
       "    <tr>\n",
       "      <th>min</th>\n",
       "      <td>1.000000</td>\n",
       "      <td>1.000000</td>\n",
       "      <td>3.000000</td>\n",
       "      <td>55.000000</td>\n",
       "      <td>3.000000</td>\n",
       "      <td>25.000000</td>\n",
       "      <td>3.000000</td>\n",
       "      <td>3.000000</td>\n",
       "      <td>0.0</td>\n",
       "    </tr>\n",
       "    <tr>\n",
       "      <th>25%</th>\n",
       "      <td>1.000000</td>\n",
       "      <td>2.000000</td>\n",
       "      <td>3097.000000</td>\n",
       "      <td>1492.000000</td>\n",
       "      <td>2128.000000</td>\n",
       "      <td>737.000000</td>\n",
       "      <td>256.000000</td>\n",
       "      <td>405.000000</td>\n",
       "      <td>0.0</td>\n",
       "    </tr>\n",
       "    <tr>\n",
       "      <th>50%</th>\n",
       "      <td>1.000000</td>\n",
       "      <td>3.000000</td>\n",
       "      <td>8258.000000</td>\n",
       "      <td>3587.000000</td>\n",
       "      <td>4604.000000</td>\n",
       "      <td>1504.000000</td>\n",
       "      <td>788.000000</td>\n",
       "      <td>929.000000</td>\n",
       "      <td>0.0</td>\n",
       "    </tr>\n",
       "    <tr>\n",
       "      <th>75%</th>\n",
       "      <td>2.000000</td>\n",
       "      <td>3.000000</td>\n",
       "      <td>16823.000000</td>\n",
       "      <td>6958.000000</td>\n",
       "      <td>9819.000000</td>\n",
       "      <td>3527.000000</td>\n",
       "      <td>3674.000000</td>\n",
       "      <td>1776.000000</td>\n",
       "      <td>0.0</td>\n",
       "    </tr>\n",
       "    <tr>\n",
       "      <th>max</th>\n",
       "      <td>2.000000</td>\n",
       "      <td>3.000000</td>\n",
       "      <td>112151.000000</td>\n",
       "      <td>36423.000000</td>\n",
       "      <td>36486.000000</td>\n",
       "      <td>60869.000000</td>\n",
       "      <td>17120.000000</td>\n",
       "      <td>16523.000000</td>\n",
       "      <td>0.0</td>\n",
       "    </tr>\n",
       "  </tbody>\n",
       "</table>\n",
       "</div>"
      ],
      "text/plain": [
       "          Channel      Region          Fresh          Milk       Grocery  \\\n",
       "count  429.000000  429.000000     429.000000    429.000000    429.000000   \n",
       "mean     1.307692    2.543124   11849.965035   5033.384615   6976.743590   \n",
       "std      0.462077    0.774072   12564.890779   4951.258636   6630.338717   \n",
       "min      1.000000    1.000000       3.000000     55.000000      3.000000   \n",
       "25%      1.000000    2.000000    3097.000000   1492.000000   2128.000000   \n",
       "50%      1.000000    3.000000    8258.000000   3587.000000   4604.000000   \n",
       "75%      2.000000    3.000000   16823.000000   6958.000000   9819.000000   \n",
       "max      2.000000    3.000000  112151.000000  36423.000000  36486.000000   \n",
       "\n",
       "             Frozen  Detergents_Paper    Delicassen  cluster  \n",
       "count    429.000000        429.000000    429.000000    429.0  \n",
       "mean    2994.335664       2374.979021   1383.617716      0.0  \n",
       "std     4625.931689       3210.910000   1724.776039      0.0  \n",
       "min       25.000000          3.000000      3.000000      0.0  \n",
       "25%      737.000000        256.000000    405.000000      0.0  \n",
       "50%     1504.000000        788.000000    929.000000      0.0  \n",
       "75%     3527.000000       3674.000000   1776.000000      0.0  \n",
       "max    60869.000000      17120.000000  16523.000000      0.0  "
      ]
     },
     "execution_count": 35,
     "metadata": {},
     "output_type": "execute_result"
    }
   ],
   "source": [
    "df[df.cluster==0].describe()"
   ]
  },
  {
   "cell_type": "code",
   "execution_count": 36,
   "metadata": {
    "scrolled": true
   },
   "outputs": [
    {
     "data": {
      "text/html": [
       "<div>\n",
       "<style scoped>\n",
       "    .dataframe tbody tr th:only-of-type {\n",
       "        vertical-align: middle;\n",
       "    }\n",
       "\n",
       "    .dataframe tbody tr th {\n",
       "        vertical-align: top;\n",
       "    }\n",
       "\n",
       "    .dataframe thead th {\n",
       "        text-align: right;\n",
       "    }\n",
       "</style>\n",
       "<table border=\"1\" class=\"dataframe\">\n",
       "  <thead>\n",
       "    <tr style=\"text-align: right;\">\n",
       "      <th></th>\n",
       "      <th>Channel</th>\n",
       "      <th>Region</th>\n",
       "      <th>Fresh</th>\n",
       "      <th>Milk</th>\n",
       "      <th>Grocery</th>\n",
       "      <th>Frozen</th>\n",
       "      <th>Detergents_Paper</th>\n",
       "      <th>Delicassen</th>\n",
       "      <th>cluster</th>\n",
       "    </tr>\n",
       "  </thead>\n",
       "  <tbody>\n",
       "    <tr>\n",
       "      <th>count</th>\n",
       "      <td>10.0</td>\n",
       "      <td>10.000000</td>\n",
       "      <td>10.000000</td>\n",
       "      <td>10.000000</td>\n",
       "      <td>10.00000</td>\n",
       "      <td>10.000000</td>\n",
       "      <td>10.000000</td>\n",
       "      <td>10.000000</td>\n",
       "      <td>10.0</td>\n",
       "    </tr>\n",
       "    <tr>\n",
       "      <th>mean</th>\n",
       "      <td>2.0</td>\n",
       "      <td>2.500000</td>\n",
       "      <td>15964.900000</td>\n",
       "      <td>34708.500000</td>\n",
       "      <td>48536.90000</td>\n",
       "      <td>3054.600000</td>\n",
       "      <td>24875.200000</td>\n",
       "      <td>2942.800000</td>\n",
       "      <td>1.0</td>\n",
       "    </tr>\n",
       "    <tr>\n",
       "      <th>std</th>\n",
       "      <td>0.0</td>\n",
       "      <td>0.849837</td>\n",
       "      <td>14394.616621</td>\n",
       "      <td>19308.486409</td>\n",
       "      <td>20553.47215</td>\n",
       "      <td>2689.795994</td>\n",
       "      <td>8250.298699</td>\n",
       "      <td>1966.992504</td>\n",
       "      <td>0.0</td>\n",
       "    </tr>\n",
       "    <tr>\n",
       "      <th>min</th>\n",
       "      <td>2.0</td>\n",
       "      <td>1.000000</td>\n",
       "      <td>85.000000</td>\n",
       "      <td>4980.000000</td>\n",
       "      <td>26866.00000</td>\n",
       "      <td>36.000000</td>\n",
       "      <td>17740.000000</td>\n",
       "      <td>903.000000</td>\n",
       "      <td>1.0</td>\n",
       "    </tr>\n",
       "    <tr>\n",
       "      <th>25%</th>\n",
       "      <td>2.0</td>\n",
       "      <td>2.250000</td>\n",
       "      <td>6741.750000</td>\n",
       "      <td>24217.750000</td>\n",
       "      <td>32482.00000</td>\n",
       "      <td>996.750000</td>\n",
       "      <td>19032.000000</td>\n",
       "      <td>1360.750000</td>\n",
       "      <td>1.0</td>\n",
       "    </tr>\n",
       "    <tr>\n",
       "      <th>50%</th>\n",
       "      <td>2.0</td>\n",
       "      <td>3.000000</td>\n",
       "      <td>10658.500000</td>\n",
       "      <td>29109.000000</td>\n",
       "      <td>42761.00000</td>\n",
       "      <td>2924.000000</td>\n",
       "      <td>22120.500000</td>\n",
       "      <td>2443.500000</td>\n",
       "      <td>1.0</td>\n",
       "    </tr>\n",
       "    <tr>\n",
       "      <th>75%</th>\n",
       "      <td>2.0</td>\n",
       "      <td>3.000000</td>\n",
       "      <td>21223.000000</td>\n",
       "      <td>44240.000000</td>\n",
       "      <td>58591.25000</td>\n",
       "      <td>4365.500000</td>\n",
       "      <td>26083.500000</td>\n",
       "      <td>4576.750000</td>\n",
       "      <td>1.0</td>\n",
       "    </tr>\n",
       "    <tr>\n",
       "      <th>max</th>\n",
       "      <td>2.0</td>\n",
       "      <td>3.000000</td>\n",
       "      <td>44466.000000</td>\n",
       "      <td>73498.000000</td>\n",
       "      <td>92780.00000</td>\n",
       "      <td>7782.000000</td>\n",
       "      <td>40827.000000</td>\n",
       "      <td>6465.000000</td>\n",
       "      <td>1.0</td>\n",
       "    </tr>\n",
       "  </tbody>\n",
       "</table>\n",
       "</div>"
      ],
      "text/plain": [
       "       Channel     Region         Fresh          Milk      Grocery  \\\n",
       "count     10.0  10.000000     10.000000     10.000000     10.00000   \n",
       "mean       2.0   2.500000  15964.900000  34708.500000  48536.90000   \n",
       "std        0.0   0.849837  14394.616621  19308.486409  20553.47215   \n",
       "min        2.0   1.000000     85.000000   4980.000000  26866.00000   \n",
       "25%        2.0   2.250000   6741.750000  24217.750000  32482.00000   \n",
       "50%        2.0   3.000000  10658.500000  29109.000000  42761.00000   \n",
       "75%        2.0   3.000000  21223.000000  44240.000000  58591.25000   \n",
       "max        2.0   3.000000  44466.000000  73498.000000  92780.00000   \n",
       "\n",
       "            Frozen  Detergents_Paper   Delicassen  cluster  \n",
       "count    10.000000         10.000000    10.000000     10.0  \n",
       "mean   3054.600000      24875.200000  2942.800000      1.0  \n",
       "std    2689.795994       8250.298699  1966.992504      0.0  \n",
       "min      36.000000      17740.000000   903.000000      1.0  \n",
       "25%     996.750000      19032.000000  1360.750000      1.0  \n",
       "50%    2924.000000      22120.500000  2443.500000      1.0  \n",
       "75%    4365.500000      26083.500000  4576.750000      1.0  \n",
       "max    7782.000000      40827.000000  6465.000000      1.0  "
      ]
     },
     "execution_count": 36,
     "metadata": {},
     "output_type": "execute_result"
    }
   ],
   "source": [
    "df[df.cluster==1].describe()"
   ]
  },
  {
   "cell_type": "markdown",
   "metadata": {},
   "source": [
    "### DBSCAN"
   ]
  },
  {
   "cell_type": "code",
   "execution_count": 37,
   "metadata": {},
   "outputs": [
    {
     "data": {
      "text/plain": [
       "DBSCAN(eps=0.8, min_samples=10)"
      ]
     },
     "execution_count": 37,
     "metadata": {},
     "output_type": "execute_result"
    }
   ],
   "source": [
    "from sklearn.cluster import DBSCAN\n",
    "model = DBSCAN(eps = 0.8, min_samples = 10)\n",
    "model.fit(xs)"
   ]
  },
  {
   "cell_type": "code",
   "execution_count": 38,
   "metadata": {},
   "outputs": [
    {
     "data": {
      "text/plain": [
       "{-1, 0}"
      ]
     },
     "execution_count": 38,
     "metadata": {},
     "output_type": "execute_result"
    }
   ],
   "source": [
    "(set(model.labels_))"
   ]
  },
  {
   "cell_type": "markdown",
   "metadata": {},
   "source": [
    "The data labelled as -1 are the outliers identified by DBSCAN"
   ]
  },
  {
   "cell_type": "code",
   "execution_count": 39,
   "metadata": {
    "scrolled": true
   },
   "outputs": [
    {
     "data": {
      "text/html": [
       "<div>\n",
       "<style scoped>\n",
       "    .dataframe tbody tr th:only-of-type {\n",
       "        vertical-align: middle;\n",
       "    }\n",
       "\n",
       "    .dataframe tbody tr th {\n",
       "        vertical-align: top;\n",
       "    }\n",
       "\n",
       "    .dataframe thead th {\n",
       "        text-align: right;\n",
       "    }\n",
       "</style>\n",
       "<table border=\"1\" class=\"dataframe\">\n",
       "  <thead>\n",
       "    <tr style=\"text-align: right;\">\n",
       "      <th></th>\n",
       "      <th>Channel</th>\n",
       "      <th>Region</th>\n",
       "      <th>Fresh</th>\n",
       "      <th>Milk</th>\n",
       "      <th>Grocery</th>\n",
       "      <th>Frozen</th>\n",
       "      <th>Detergents_Paper</th>\n",
       "      <th>Delicassen</th>\n",
       "      <th>cluster</th>\n",
       "      <th>Cluster_DBSCAN</th>\n",
       "    </tr>\n",
       "  </thead>\n",
       "  <tbody>\n",
       "    <tr>\n",
       "      <th>0</th>\n",
       "      <td>2</td>\n",
       "      <td>3</td>\n",
       "      <td>12669</td>\n",
       "      <td>9656</td>\n",
       "      <td>7561</td>\n",
       "      <td>214</td>\n",
       "      <td>2674</td>\n",
       "      <td>1338</td>\n",
       "      <td>0</td>\n",
       "      <td>0</td>\n",
       "    </tr>\n",
       "    <tr>\n",
       "      <th>1</th>\n",
       "      <td>2</td>\n",
       "      <td>3</td>\n",
       "      <td>7057</td>\n",
       "      <td>9810</td>\n",
       "      <td>9568</td>\n",
       "      <td>1762</td>\n",
       "      <td>3293</td>\n",
       "      <td>1776</td>\n",
       "      <td>0</td>\n",
       "      <td>0</td>\n",
       "    </tr>\n",
       "    <tr>\n",
       "      <th>2</th>\n",
       "      <td>2</td>\n",
       "      <td>3</td>\n",
       "      <td>6353</td>\n",
       "      <td>8808</td>\n",
       "      <td>7684</td>\n",
       "      <td>2405</td>\n",
       "      <td>3516</td>\n",
       "      <td>7844</td>\n",
       "      <td>0</td>\n",
       "      <td>-1</td>\n",
       "    </tr>\n",
       "    <tr>\n",
       "      <th>3</th>\n",
       "      <td>1</td>\n",
       "      <td>3</td>\n",
       "      <td>13265</td>\n",
       "      <td>1196</td>\n",
       "      <td>4221</td>\n",
       "      <td>6404</td>\n",
       "      <td>507</td>\n",
       "      <td>1788</td>\n",
       "      <td>0</td>\n",
       "      <td>0</td>\n",
       "    </tr>\n",
       "    <tr>\n",
       "      <th>4</th>\n",
       "      <td>2</td>\n",
       "      <td>3</td>\n",
       "      <td>22615</td>\n",
       "      <td>5410</td>\n",
       "      <td>7198</td>\n",
       "      <td>3915</td>\n",
       "      <td>1777</td>\n",
       "      <td>5185</td>\n",
       "      <td>0</td>\n",
       "      <td>-1</td>\n",
       "    </tr>\n",
       "  </tbody>\n",
       "</table>\n",
       "</div>"
      ],
      "text/plain": [
       "   Channel  Region  Fresh  Milk  Grocery  Frozen  Detergents_Paper  \\\n",
       "0        2       3  12669  9656     7561     214              2674   \n",
       "1        2       3   7057  9810     9568    1762              3293   \n",
       "2        2       3   6353  8808     7684    2405              3516   \n",
       "3        1       3  13265  1196     4221    6404               507   \n",
       "4        2       3  22615  5410     7198    3915              1777   \n",
       "\n",
       "   Delicassen  cluster  Cluster_DBSCAN  \n",
       "0        1338        0               0  \n",
       "1        1776        0               0  \n",
       "2        7844        0              -1  \n",
       "3        1788        0               0  \n",
       "4        5185        0              -1  "
      ]
     },
     "execution_count": 39,
     "metadata": {},
     "output_type": "execute_result"
    }
   ],
   "source": [
    "df['Cluster_DBSCAN'] = model.labels_\n",
    "df.head()"
   ]
  },
  {
   "cell_type": "code",
   "execution_count": 41,
   "metadata": {},
   "outputs": [
    {
     "data": {
      "text/plain": [
       " 0    345\n",
       "-1     95\n",
       "Name: Cluster_DBSCAN, dtype: int64"
      ]
     },
     "execution_count": 41,
     "metadata": {},
     "output_type": "execute_result"
    }
   ],
   "source": [
    "df['Cluster_DBSCAN'].value_counts()"
   ]
  },
  {
   "cell_type": "code",
   "execution_count": 43,
   "metadata": {},
   "outputs": [
    {
     "data": {
      "image/png": "[encoded data removed]",
      "text/plain": [
       "<Figure size 432x288 with 1 Axes>"
      ]
     },
     "metadata": {
      "needs_background": "light"
     },
     "output_type": "display_data"
    }
   ],
   "source": [
    "sns.countplot(data = df, x = 'Cluster_DBSCAN')\n",
    "plt.title('Size of Cluster', fontsize = 15)\n",
    "plt.xlabel('Cluster', fontsize = 15)\n",
    "plt.ylabel('No. of Products', fontsize = 15)\n",
    "plt.show()"
   ]
  },
  {
   "cell_type": "code",
   "execution_count": 44,
   "metadata": {},
   "outputs": [
    {
     "data": {
      "image/png": "[encoded data removed]",
      "text/plain": [
       "<Figure size 954.5x864 with 1 Axes>"
      ]
     },
     "metadata": {
      "needs_background": "light"
     },
     "output_type": "display_data"
    }
   ],
   "source": [
    "sns.lmplot(x = 'Fresh', y = 'Milk', data = df, hue = 'Cluster_DBSCAN', markers = ['o','+'], \n",
    "           fit_reg = False, size = 12)\n",
    "plt.title('DBSCABN (eps = 0.8, min_samples = 15) ', fontsize = 15)\n",
    "plt.xlabel('Fresh', fontsize = 15)\n",
    "plt.ylabel('Milk', fontsize = 15)\n",
    "\n",
    "plt.show()"
   ]
  },
  {
   "cell_type": "markdown",
   "metadata": {},
   "source": [
    "The blue circles corresponds to outlliers.We can see some of the points are overlapped. This is because the dimension of the original data is greater than 2 and we have considered only 2 variables to plot the clusters."
   ]
  },
  {
   "cell_type": "markdown",
   "metadata": {},
   "source": [
    "### k-means Clustering"
   ]
  },
  {
   "cell_type": "code",
   "execution_count": 45,
   "metadata": {},
   "outputs": [],
   "source": [
    "from sklearn.cluster import KMeans\n",
    "wcss  = []          #Within Cluster Sum of Squares\n",
    "for i in range(1,21):\n",
    "    kmeans = KMeans(n_clusters = i, random_state = 10)\n",
    "    kmeans.fit(xs)\n",
    "    wcss.append(kmeans.inertia_)"
   ]
  },
  {
   "cell_type": "code",
   "execution_count": 63,
   "metadata": {},
   "outputs": [
    {
     "data": {
      "image/png": "[encoded data removed]",
      "text/plain": [
       "<Figure size 432x288 with 1 Axes>"
      ]
     },
     "metadata": {
      "needs_background": "light"
     },
     "output_type": "display_data"
    }
   ],
   "source": [
    "plt.plot(range(1,21), wcss)\n",
    "plt.title('Elbow Plot', fontsize = 15)\n",
    "plt.xlabel('No. of clusters (K)', fontsize = 15)\n",
    "plt.ylabel('WCSS', fontsize = 15)\n",
    "plt.axvline(x = 5, color = 'red')\n",
    "plt.grid(True)\n",
    "plt.show()"
   ]
  },
  {
   "cell_type": "markdown",
   "metadata": {},
   "source": [
    "We can see that the for K = 5, there is an elbow in the plot. Before this elbow point, the WCSS is decreasing rapidly and after K = 5, the WCSS is decreasing slowly"
   ]
  },
  {
   "cell_type": "markdown",
   "metadata": {},
   "source": [
    "##### Finding optimal value using silhouette score"
   ]
  },
  {
   "cell_type": "code",
   "execution_count": 64,
   "metadata": {},
   "outputs": [
    {
     "name": "stdout",
     "output_type": "stream",
     "text": [
      "For 2 clusters the silhouette score is 0.5813786552641048)\n",
      "For 3 clusters the silhouette score is 0.5420091437306166)\n",
      "For 4 clusters the silhouette score is 0.43015007444252146)\n",
      "For 5 clusters the silhouette score is 0.37857712392806553)\n",
      "For 6 clusters the silhouette score is 0.36854424825060517)\n"
     ]
    }
   ],
   "source": [
    "from sklearn.metrics import silhouette_score,silhouette_samples\n",
    "n_clusters = [2, 3, 4, 5, 6]\n",
    "for K in n_clusters:\n",
    "    cluster = KMeans (n_clusters= K, random_state= 10)\n",
    "    predict = cluster.fit_predict(xs)\n",
    "    score = silhouette_score(xs, predict, random_state= 10)\n",
    "    print (\"For {} clusters the silhouette score is {})\".format(K, score))"
   ]
  },
  {
   "cell_type": "code",
   "execution_count": 65,
   "metadata": {},
   "outputs": [
    {
     "data": {
      "image/png": "[encoded data removed]",
      "text/plain": [
       "<Figure size 432x288 with 1 Axes>"
      ]
     },
     "metadata": {
      "needs_background": "light"
     },
     "output_type": "display_data"
    }
   ],
   "source": [
    "import plusmodules as pm\n",
    "pm.svisualizer(xs,5)  #silhouette  plot for k=5"
   ]
  },
  {
   "cell_type": "code",
   "execution_count": 46,
   "metadata": {},
   "outputs": [],
   "source": [
    "new_clusters = KMeans(n_clusters = 5, random_state = 10)\n",
    "new_clusters.fit(xs)\n",
    "df['Cluster_km'] = new_clusters.labels_"
   ]
  },
  {
   "cell_type": "code",
   "execution_count": 47,
   "metadata": {},
   "outputs": [
    {
     "data": {
      "text/html": [
       "<div>\n",
       "<style scoped>\n",
       "    .dataframe tbody tr th:only-of-type {\n",
       "        vertical-align: middle;\n",
       "    }\n",
       "\n",
       "    .dataframe tbody tr th {\n",
       "        vertical-align: top;\n",
       "    }\n",
       "\n",
       "    .dataframe thead th {\n",
       "        text-align: right;\n",
       "    }\n",
       "</style>\n",
       "<table border=\"1\" class=\"dataframe\">\n",
       "  <thead>\n",
       "    <tr style=\"text-align: right;\">\n",
       "      <th></th>\n",
       "      <th>Channel</th>\n",
       "      <th>Region</th>\n",
       "      <th>Fresh</th>\n",
       "      <th>Milk</th>\n",
       "      <th>Grocery</th>\n",
       "      <th>Frozen</th>\n",
       "      <th>Detergents_Paper</th>\n",
       "      <th>Delicassen</th>\n",
       "      <th>cluster</th>\n",
       "      <th>Cluster_DBSCAN</th>\n",
       "      <th>Cluster_km</th>\n",
       "    </tr>\n",
       "  </thead>\n",
       "  <tbody>\n",
       "    <tr>\n",
       "      <th>0</th>\n",
       "      <td>2</td>\n",
       "      <td>3</td>\n",
       "      <td>12669</td>\n",
       "      <td>9656</td>\n",
       "      <td>7561</td>\n",
       "      <td>214</td>\n",
       "      <td>2674</td>\n",
       "      <td>1338</td>\n",
       "      <td>0</td>\n",
       "      <td>0</td>\n",
       "      <td>0</td>\n",
       "    </tr>\n",
       "    <tr>\n",
       "      <th>1</th>\n",
       "      <td>2</td>\n",
       "      <td>3</td>\n",
       "      <td>7057</td>\n",
       "      <td>9810</td>\n",
       "      <td>9568</td>\n",
       "      <td>1762</td>\n",
       "      <td>3293</td>\n",
       "      <td>1776</td>\n",
       "      <td>0</td>\n",
       "      <td>0</td>\n",
       "      <td>3</td>\n",
       "    </tr>\n",
       "    <tr>\n",
       "      <th>2</th>\n",
       "      <td>2</td>\n",
       "      <td>3</td>\n",
       "      <td>6353</td>\n",
       "      <td>8808</td>\n",
       "      <td>7684</td>\n",
       "      <td>2405</td>\n",
       "      <td>3516</td>\n",
       "      <td>7844</td>\n",
       "      <td>0</td>\n",
       "      <td>-1</td>\n",
       "      <td>3</td>\n",
       "    </tr>\n",
       "    <tr>\n",
       "      <th>3</th>\n",
       "      <td>1</td>\n",
       "      <td>3</td>\n",
       "      <td>13265</td>\n",
       "      <td>1196</td>\n",
       "      <td>4221</td>\n",
       "      <td>6404</td>\n",
       "      <td>507</td>\n",
       "      <td>1788</td>\n",
       "      <td>0</td>\n",
       "      <td>0</td>\n",
       "      <td>0</td>\n",
       "    </tr>\n",
       "    <tr>\n",
       "      <th>4</th>\n",
       "      <td>2</td>\n",
       "      <td>3</td>\n",
       "      <td>22615</td>\n",
       "      <td>5410</td>\n",
       "      <td>7198</td>\n",
       "      <td>3915</td>\n",
       "      <td>1777</td>\n",
       "      <td>5185</td>\n",
       "      <td>0</td>\n",
       "      <td>-1</td>\n",
       "      <td>2</td>\n",
       "    </tr>\n",
       "  </tbody>\n",
       "</table>\n",
       "</div>"
      ],
      "text/plain": [
       "   Channel  Region  Fresh  Milk  Grocery  Frozen  Detergents_Paper  \\\n",
       "0        2       3  12669  9656     7561     214              2674   \n",
       "1        2       3   7057  9810     9568    1762              3293   \n",
       "2        2       3   6353  8808     7684    2405              3516   \n",
       "3        1       3  13265  1196     4221    6404               507   \n",
       "4        2       3  22615  5410     7198    3915              1777   \n",
       "\n",
       "   Delicassen  cluster  Cluster_DBSCAN  Cluster_km  \n",
       "0        1338        0               0           0  \n",
       "1        1776        0               0           3  \n",
       "2        7844        0              -1           3  \n",
       "3        1788        0               0           0  \n",
       "4        5185        0              -1           2  "
      ]
     },
     "execution_count": 47,
     "metadata": {},
     "output_type": "execute_result"
    }
   ],
   "source": [
    "df.head()"
   ]
  },
  {
   "cell_type": "code",
   "execution_count": 72,
   "metadata": {},
   "outputs": [
    {
     "data": {
      "image/png": "[encoded data removed]",
      "text/plain": [
       "<Figure size 432x288 with 1 Axes>"
      ]
     },
     "metadata": {
      "needs_background": "light"
     },
     "output_type": "display_data"
    }
   ],
   "source": [
    "sns.countplot(data= xs, x = 'Cluster_km')\n",
    "plt.title('Size of Cluster', fontsize = 15)\n",
    "plt.xlabel('Clusters', fontsize = 15)\n",
    "plt.ylabel('Number of Clusters', fontsize = 15)\n",
    "plt.text(x = -0.05, y =280, s = np.unique(new_clusters.labels_, return_counts=True)[1][0])\n",
    "plt.text(x = 0.95, y =1, s = np.unique(new_clusters.labels_, return_counts=True)[1][1])\n",
    "plt.text(x = 1.95, y =100, s = np.unique(new_clusters.labels_, return_counts=True)[1][2])\n",
    "plt.text(x = 2.95, y =49, s = np.unique(new_clusters.labels_, return_counts=True)[1][3])\n",
    "plt.text(x = 3.95, y =10, s = np.unique(new_clusters.labels_, return_counts=True)[1][4])\n",
    "plt.show()"
   ]
  },
  {
   "cell_type": "markdown",
   "metadata": {},
   "source": [
    "cluster 0 is the largest with 280 observations"
   ]
  },
  {
   "cell_type": "code",
   "execution_count": 48,
   "metadata": {},
   "outputs": [
    {
     "data": {
      "text/plain": [
       "0    270\n",
       "3     96\n",
       "2     63\n",
       "4     10\n",
       "1      1\n",
       "Name: Cluster_km, dtype: int64"
      ]
     },
     "execution_count": 48,
     "metadata": {},
     "output_type": "execute_result"
    }
   ],
   "source": [
    "df.Cluster_km.value_counts()"
   ]
  },
  {
   "cell_type": "code",
   "execution_count": 50,
   "metadata": {},
   "outputs": [
    {
     "data": {
      "text/html": [
       "<div>\n",
       "<style scoped>\n",
       "    .dataframe tbody tr th:only-of-type {\n",
       "        vertical-align: middle;\n",
       "    }\n",
       "\n",
       "    .dataframe tbody tr th {\n",
       "        vertical-align: top;\n",
       "    }\n",
       "\n",
       "    .dataframe thead th {\n",
       "        text-align: right;\n",
       "    }\n",
       "</style>\n",
       "<table border=\"1\" class=\"dataframe\">\n",
       "  <thead>\n",
       "    <tr style=\"text-align: right;\">\n",
       "      <th></th>\n",
       "      <th>Channel</th>\n",
       "      <th>Region</th>\n",
       "      <th>Fresh</th>\n",
       "      <th>Milk</th>\n",
       "      <th>Grocery</th>\n",
       "      <th>Frozen</th>\n",
       "      <th>Detergents_Paper</th>\n",
       "      <th>Delicassen</th>\n",
       "      <th>cluster</th>\n",
       "      <th>Cluster_DBSCAN</th>\n",
       "      <th>Cluster_km</th>\n",
       "    </tr>\n",
       "  </thead>\n",
       "  <tbody>\n",
       "    <tr>\n",
       "      <th>count</th>\n",
       "      <td>270.000000</td>\n",
       "      <td>270.000000</td>\n",
       "      <td>270.000000</td>\n",
       "      <td>270.000000</td>\n",
       "      <td>270.000000</td>\n",
       "      <td>270.000000</td>\n",
       "      <td>270.000000</td>\n",
       "      <td>270.000000</td>\n",
       "      <td>270.0</td>\n",
       "      <td>270.000000</td>\n",
       "      <td>270.0</td>\n",
       "    </tr>\n",
       "    <tr>\n",
       "      <th>mean</th>\n",
       "      <td>1.137037</td>\n",
       "      <td>2.518519</td>\n",
       "      <td>9092.155556</td>\n",
       "      <td>2967.759259</td>\n",
       "      <td>3807.411111</td>\n",
       "      <td>2271.759259</td>\n",
       "      <td>989.814815</td>\n",
       "      <td>978.962963</td>\n",
       "      <td>0.0</td>\n",
       "      <td>-0.037037</td>\n",
       "      <td>0.0</td>\n",
       "    </tr>\n",
       "    <tr>\n",
       "      <th>std</th>\n",
       "      <td>0.344525</td>\n",
       "      <td>0.788880</td>\n",
       "      <td>6686.340923</td>\n",
       "      <td>2474.264473</td>\n",
       "      <td>2811.842619</td>\n",
       "      <td>2350.107345</td>\n",
       "      <td>1201.565591</td>\n",
       "      <td>898.828444</td>\n",
       "      <td>0.0</td>\n",
       "      <td>0.189203</td>\n",
       "      <td>0.0</td>\n",
       "    </tr>\n",
       "    <tr>\n",
       "      <th>min</th>\n",
       "      <td>1.000000</td>\n",
       "      <td>1.000000</td>\n",
       "      <td>3.000000</td>\n",
       "      <td>55.000000</td>\n",
       "      <td>3.000000</td>\n",
       "      <td>47.000000</td>\n",
       "      <td>3.000000</td>\n",
       "      <td>3.000000</td>\n",
       "      <td>0.0</td>\n",
       "      <td>-1.000000</td>\n",
       "      <td>0.0</td>\n",
       "    </tr>\n",
       "    <tr>\n",
       "      <th>25%</th>\n",
       "      <td>1.000000</td>\n",
       "      <td>2.000000</td>\n",
       "      <td>3248.000000</td>\n",
       "      <td>1143.250000</td>\n",
       "      <td>1768.000000</td>\n",
       "      <td>673.750000</td>\n",
       "      <td>199.250000</td>\n",
       "      <td>342.500000</td>\n",
       "      <td>0.0</td>\n",
       "      <td>0.000000</td>\n",
       "      <td>0.0</td>\n",
       "    </tr>\n",
       "    <tr>\n",
       "      <th>50%</th>\n",
       "      <td>1.000000</td>\n",
       "      <td>3.000000</td>\n",
       "      <td>7861.000000</td>\n",
       "      <td>2157.000000</td>\n",
       "      <td>2859.000000</td>\n",
       "      <td>1447.000000</td>\n",
       "      <td>422.000000</td>\n",
       "      <td>709.500000</td>\n",
       "      <td>0.0</td>\n",
       "      <td>0.000000</td>\n",
       "      <td>0.0</td>\n",
       "    </tr>\n",
       "    <tr>\n",
       "      <th>75%</th>\n",
       "      <td>1.000000</td>\n",
       "      <td>3.000000</td>\n",
       "      <td>13561.000000</td>\n",
       "      <td>3911.500000</td>\n",
       "      <td>5232.000000</td>\n",
       "      <td>2939.750000</td>\n",
       "      <td>1302.500000</td>\n",
       "      <td>1328.000000</td>\n",
       "      <td>0.0</td>\n",
       "      <td>0.000000</td>\n",
       "      <td>0.0</td>\n",
       "    </tr>\n",
       "    <tr>\n",
       "      <th>max</th>\n",
       "      <td>2.000000</td>\n",
       "      <td>3.000000</td>\n",
       "      <td>27329.000000</td>\n",
       "      <td>18664.000000</td>\n",
       "      <td>16483.000000</td>\n",
       "      <td>15601.000000</td>\n",
       "      <td>5316.000000</td>\n",
       "      <td>5137.000000</td>\n",
       "      <td>0.0</td>\n",
       "      <td>0.000000</td>\n",
       "      <td>0.0</td>\n",
       "    </tr>\n",
       "  </tbody>\n",
       "</table>\n",
       "</div>"
      ],
      "text/plain": [
       "          Channel      Region         Fresh          Milk       Grocery  \\\n",
       "count  270.000000  270.000000    270.000000    270.000000    270.000000   \n",
       "mean     1.137037    2.518519   9092.155556   2967.759259   3807.411111   \n",
       "std      0.344525    0.788880   6686.340923   2474.264473   2811.842619   \n",
       "min      1.000000    1.000000      3.000000     55.000000      3.000000   \n",
       "25%      1.000000    2.000000   3248.000000   1143.250000   1768.000000   \n",
       "50%      1.000000    3.000000   7861.000000   2157.000000   2859.000000   \n",
       "75%      1.000000    3.000000  13561.000000   3911.500000   5232.000000   \n",
       "max      2.000000    3.000000  27329.000000  18664.000000  16483.000000   \n",
       "\n",
       "             Frozen  Detergents_Paper   Delicassen  cluster  Cluster_DBSCAN  \\\n",
       "count    270.000000        270.000000   270.000000    270.0      270.000000   \n",
       "mean    2271.759259        989.814815   978.962963      0.0       -0.037037   \n",
       "std     2350.107345       1201.565591   898.828444      0.0        0.189203   \n",
       "min       47.000000          3.000000     3.000000      0.0       -1.000000   \n",
       "25%      673.750000        199.250000   342.500000      0.0        0.000000   \n",
       "50%     1447.000000        422.000000   709.500000      0.0        0.000000   \n",
       "75%     2939.750000       1302.500000  1328.000000      0.0        0.000000   \n",
       "max    15601.000000       5316.000000  5137.000000      0.0        0.000000   \n",
       "\n",
       "       Cluster_km  \n",
       "count       270.0  \n",
       "mean          0.0  \n",
       "std           0.0  \n",
       "min           0.0  \n",
       "25%           0.0  \n",
       "50%           0.0  \n",
       "75%           0.0  \n",
       "max           0.0  "
      ]
     },
     "execution_count": 50,
     "metadata": {},
     "output_type": "execute_result"
    }
   ],
   "source": [
    "df[df.Cluster_km==0].describe()"
   ]
  },
  {
   "cell_type": "code",
   "execution_count": 51,
   "metadata": {},
   "outputs": [
    {
     "data": {
      "text/html": [
       "<div>\n",
       "<style scoped>\n",
       "    .dataframe tbody tr th:only-of-type {\n",
       "        vertical-align: middle;\n",
       "    }\n",
       "\n",
       "    .dataframe tbody tr th {\n",
       "        vertical-align: top;\n",
       "    }\n",
       "\n",
       "    .dataframe thead th {\n",
       "        text-align: right;\n",
       "    }\n",
       "</style>\n",
       "<table border=\"1\" class=\"dataframe\">\n",
       "  <thead>\n",
       "    <tr style=\"text-align: right;\">\n",
       "      <th></th>\n",
       "      <th>Channel</th>\n",
       "      <th>Region</th>\n",
       "      <th>Fresh</th>\n",
       "      <th>Milk</th>\n",
       "      <th>Grocery</th>\n",
       "      <th>Frozen</th>\n",
       "      <th>Detergents_Paper</th>\n",
       "      <th>Delicassen</th>\n",
       "      <th>cluster</th>\n",
       "      <th>Cluster_DBSCAN</th>\n",
       "      <th>Cluster_km</th>\n",
       "    </tr>\n",
       "  </thead>\n",
       "  <tbody>\n",
       "    <tr>\n",
       "      <th>count</th>\n",
       "      <td>1.0</td>\n",
       "      <td>1.0</td>\n",
       "      <td>1.0</td>\n",
       "      <td>1.0</td>\n",
       "      <td>1.0</td>\n",
       "      <td>1.0</td>\n",
       "      <td>1.0</td>\n",
       "      <td>1.0</td>\n",
       "      <td>1.0</td>\n",
       "      <td>1.0</td>\n",
       "      <td>1.0</td>\n",
       "    </tr>\n",
       "    <tr>\n",
       "      <th>mean</th>\n",
       "      <td>1.0</td>\n",
       "      <td>3.0</td>\n",
       "      <td>36847.0</td>\n",
       "      <td>43950.0</td>\n",
       "      <td>20170.0</td>\n",
       "      <td>36534.0</td>\n",
       "      <td>239.0</td>\n",
       "      <td>47943.0</td>\n",
       "      <td>2.0</td>\n",
       "      <td>-1.0</td>\n",
       "      <td>1.0</td>\n",
       "    </tr>\n",
       "    <tr>\n",
       "      <th>std</th>\n",
       "      <td>NaN</td>\n",
       "      <td>NaN</td>\n",
       "      <td>NaN</td>\n",
       "      <td>NaN</td>\n",
       "      <td>NaN</td>\n",
       "      <td>NaN</td>\n",
       "      <td>NaN</td>\n",
       "      <td>NaN</td>\n",
       "      <td>NaN</td>\n",
       "      <td>NaN</td>\n",
       "      <td>NaN</td>\n",
       "    </tr>\n",
       "    <tr>\n",
       "      <th>min</th>\n",
       "      <td>1.0</td>\n",
       "      <td>3.0</td>\n",
       "      <td>36847.0</td>\n",
       "      <td>43950.0</td>\n",
       "      <td>20170.0</td>\n",
       "      <td>36534.0</td>\n",
       "      <td>239.0</td>\n",
       "      <td>47943.0</td>\n",
       "      <td>2.0</td>\n",
       "      <td>-1.0</td>\n",
       "      <td>1.0</td>\n",
       "    </tr>\n",
       "    <tr>\n",
       "      <th>25%</th>\n",
       "      <td>1.0</td>\n",
       "      <td>3.0</td>\n",
       "      <td>36847.0</td>\n",
       "      <td>43950.0</td>\n",
       "      <td>20170.0</td>\n",
       "      <td>36534.0</td>\n",
       "      <td>239.0</td>\n",
       "      <td>47943.0</td>\n",
       "      <td>2.0</td>\n",
       "      <td>-1.0</td>\n",
       "      <td>1.0</td>\n",
       "    </tr>\n",
       "    <tr>\n",
       "      <th>50%</th>\n",
       "      <td>1.0</td>\n",
       "      <td>3.0</td>\n",
       "      <td>36847.0</td>\n",
       "      <td>43950.0</td>\n",
       "      <td>20170.0</td>\n",
       "      <td>36534.0</td>\n",
       "      <td>239.0</td>\n",
       "      <td>47943.0</td>\n",
       "      <td>2.0</td>\n",
       "      <td>-1.0</td>\n",
       "      <td>1.0</td>\n",
       "    </tr>\n",
       "    <tr>\n",
       "      <th>75%</th>\n",
       "      <td>1.0</td>\n",
       "      <td>3.0</td>\n",
       "      <td>36847.0</td>\n",
       "      <td>43950.0</td>\n",
       "      <td>20170.0</td>\n",
       "      <td>36534.0</td>\n",
       "      <td>239.0</td>\n",
       "      <td>47943.0</td>\n",
       "      <td>2.0</td>\n",
       "      <td>-1.0</td>\n",
       "      <td>1.0</td>\n",
       "    </tr>\n",
       "    <tr>\n",
       "      <th>max</th>\n",
       "      <td>1.0</td>\n",
       "      <td>3.0</td>\n",
       "      <td>36847.0</td>\n",
       "      <td>43950.0</td>\n",
       "      <td>20170.0</td>\n",
       "      <td>36534.0</td>\n",
       "      <td>239.0</td>\n",
       "      <td>47943.0</td>\n",
       "      <td>2.0</td>\n",
       "      <td>-1.0</td>\n",
       "      <td>1.0</td>\n",
       "    </tr>\n",
       "  </tbody>\n",
       "</table>\n",
       "</div>"
      ],
      "text/plain": [
       "       Channel  Region    Fresh     Milk  Grocery   Frozen  Detergents_Paper  \\\n",
       "count      1.0     1.0      1.0      1.0      1.0      1.0               1.0   \n",
       "mean       1.0     3.0  36847.0  43950.0  20170.0  36534.0             239.0   \n",
       "std        NaN     NaN      NaN      NaN      NaN      NaN               NaN   \n",
       "min        1.0     3.0  36847.0  43950.0  20170.0  36534.0             239.0   \n",
       "25%        1.0     3.0  36847.0  43950.0  20170.0  36534.0             239.0   \n",
       "50%        1.0     3.0  36847.0  43950.0  20170.0  36534.0             239.0   \n",
       "75%        1.0     3.0  36847.0  43950.0  20170.0  36534.0             239.0   \n",
       "max        1.0     3.0  36847.0  43950.0  20170.0  36534.0             239.0   \n",
       "\n",
       "       Delicassen  cluster  Cluster_DBSCAN  Cluster_km  \n",
       "count         1.0      1.0             1.0         1.0  \n",
       "mean      47943.0      2.0            -1.0         1.0  \n",
       "std           NaN      NaN             NaN         NaN  \n",
       "min       47943.0      2.0            -1.0         1.0  \n",
       "25%       47943.0      2.0            -1.0         1.0  \n",
       "50%       47943.0      2.0            -1.0         1.0  \n",
       "75%       47943.0      2.0            -1.0         1.0  \n",
       "max       47943.0      2.0            -1.0         1.0  "
      ]
     },
     "execution_count": 51,
     "metadata": {},
     "output_type": "execute_result"
    }
   ],
   "source": [
    "df[df.Cluster_km==1].describe()"
   ]
  },
  {
   "cell_type": "code",
   "execution_count": 52,
   "metadata": {},
   "outputs": [
    {
     "data": {
      "text/html": [
       "<div>\n",
       "<style scoped>\n",
       "    .dataframe tbody tr th:only-of-type {\n",
       "        vertical-align: middle;\n",
       "    }\n",
       "\n",
       "    .dataframe tbody tr th {\n",
       "        vertical-align: top;\n",
       "    }\n",
       "\n",
       "    .dataframe thead th {\n",
       "        text-align: right;\n",
       "    }\n",
       "</style>\n",
       "<table border=\"1\" class=\"dataframe\">\n",
       "  <thead>\n",
       "    <tr style=\"text-align: right;\">\n",
       "      <th></th>\n",
       "      <th>Channel</th>\n",
       "      <th>Region</th>\n",
       "      <th>Fresh</th>\n",
       "      <th>Milk</th>\n",
       "      <th>Grocery</th>\n",
       "      <th>Frozen</th>\n",
       "      <th>Detergents_Paper</th>\n",
       "      <th>Delicassen</th>\n",
       "      <th>cluster</th>\n",
       "      <th>Cluster_DBSCAN</th>\n",
       "      <th>Cluster_km</th>\n",
       "    </tr>\n",
       "  </thead>\n",
       "  <tbody>\n",
       "    <tr>\n",
       "      <th>count</th>\n",
       "      <td>63.000000</td>\n",
       "      <td>63.000000</td>\n",
       "      <td>63.000000</td>\n",
       "      <td>63.000000</td>\n",
       "      <td>63.000000</td>\n",
       "      <td>63.000000</td>\n",
       "      <td>63.000000</td>\n",
       "      <td>63.000000</td>\n",
       "      <td>63.0</td>\n",
       "      <td>63.000000</td>\n",
       "      <td>63.0</td>\n",
       "    </tr>\n",
       "    <tr>\n",
       "      <th>mean</th>\n",
       "      <td>1.126984</td>\n",
       "      <td>2.682540</td>\n",
       "      <td>32957.984127</td>\n",
       "      <td>4997.349206</td>\n",
       "      <td>5884.761905</td>\n",
       "      <td>8422.841270</td>\n",
       "      <td>954.603175</td>\n",
       "      <td>2462.968254</td>\n",
       "      <td>0.0</td>\n",
       "      <td>-0.650794</td>\n",
       "      <td>2.0</td>\n",
       "    </tr>\n",
       "    <tr>\n",
       "      <th>std</th>\n",
       "      <td>0.335630</td>\n",
       "      <td>0.691548</td>\n",
       "      <td>17247.704151</td>\n",
       "      <td>4814.850077</td>\n",
       "      <td>4535.058497</td>\n",
       "      <td>9178.662583</td>\n",
       "      <td>1151.861306</td>\n",
       "      <td>2752.989314</td>\n",
       "      <td>0.0</td>\n",
       "      <td>0.480548</td>\n",
       "      <td>0.0</td>\n",
       "    </tr>\n",
       "    <tr>\n",
       "      <th>min</th>\n",
       "      <td>1.000000</td>\n",
       "      <td>1.000000</td>\n",
       "      <td>4983.000000</td>\n",
       "      <td>286.000000</td>\n",
       "      <td>471.000000</td>\n",
       "      <td>287.000000</td>\n",
       "      <td>20.000000</td>\n",
       "      <td>3.000000</td>\n",
       "      <td>0.0</td>\n",
       "      <td>-1.000000</td>\n",
       "      <td>2.0</td>\n",
       "    </tr>\n",
       "    <tr>\n",
       "      <th>25%</th>\n",
       "      <td>1.000000</td>\n",
       "      <td>3.000000</td>\n",
       "      <td>23123.500000</td>\n",
       "      <td>2068.500000</td>\n",
       "      <td>2307.500000</td>\n",
       "      <td>3003.500000</td>\n",
       "      <td>299.000000</td>\n",
       "      <td>939.000000</td>\n",
       "      <td>0.0</td>\n",
       "      <td>-1.000000</td>\n",
       "      <td>2.0</td>\n",
       "    </tr>\n",
       "    <tr>\n",
       "      <th>50%</th>\n",
       "      <td>1.000000</td>\n",
       "      <td>3.000000</td>\n",
       "      <td>29955.000000</td>\n",
       "      <td>3916.000000</td>\n",
       "      <td>5026.000000</td>\n",
       "      <td>6312.000000</td>\n",
       "      <td>523.000000</td>\n",
       "      <td>1819.000000</td>\n",
       "      <td>0.0</td>\n",
       "      <td>-1.000000</td>\n",
       "      <td>2.0</td>\n",
       "    </tr>\n",
       "    <tr>\n",
       "      <th>75%</th>\n",
       "      <td>1.000000</td>\n",
       "      <td>3.000000</td>\n",
       "      <td>39966.500000</td>\n",
       "      <td>5458.000000</td>\n",
       "      <td>7726.500000</td>\n",
       "      <td>10473.000000</td>\n",
       "      <td>1099.500000</td>\n",
       "      <td>2792.000000</td>\n",
       "      <td>0.0</td>\n",
       "      <td>0.000000</td>\n",
       "      <td>2.0</td>\n",
       "    </tr>\n",
       "    <tr>\n",
       "      <th>max</th>\n",
       "      <td>2.000000</td>\n",
       "      <td>3.000000</td>\n",
       "      <td>112151.000000</td>\n",
       "      <td>29627.000000</td>\n",
       "      <td>21042.000000</td>\n",
       "      <td>60869.000000</td>\n",
       "      <td>4948.000000</td>\n",
       "      <td>14472.000000</td>\n",
       "      <td>0.0</td>\n",
       "      <td>0.000000</td>\n",
       "      <td>2.0</td>\n",
       "    </tr>\n",
       "  </tbody>\n",
       "</table>\n",
       "</div>"
      ],
      "text/plain": [
       "         Channel     Region          Fresh          Milk       Grocery  \\\n",
       "count  63.000000  63.000000      63.000000     63.000000     63.000000   \n",
       "mean    1.126984   2.682540   32957.984127   4997.349206   5884.761905   \n",
       "std     0.335630   0.691548   17247.704151   4814.850077   4535.058497   \n",
       "min     1.000000   1.000000    4983.000000    286.000000    471.000000   \n",
       "25%     1.000000   3.000000   23123.500000   2068.500000   2307.500000   \n",
       "50%     1.000000   3.000000   29955.000000   3916.000000   5026.000000   \n",
       "75%     1.000000   3.000000   39966.500000   5458.000000   7726.500000   \n",
       "max     2.000000   3.000000  112151.000000  29627.000000  21042.000000   \n",
       "\n",
       "             Frozen  Detergents_Paper    Delicassen  cluster  Cluster_DBSCAN  \\\n",
       "count     63.000000         63.000000     63.000000     63.0       63.000000   \n",
       "mean    8422.841270        954.603175   2462.968254      0.0       -0.650794   \n",
       "std     9178.662583       1151.861306   2752.989314      0.0        0.480548   \n",
       "min      287.000000         20.000000      3.000000      0.0       -1.000000   \n",
       "25%     3003.500000        299.000000    939.000000      0.0       -1.000000   \n",
       "50%     6312.000000        523.000000   1819.000000      0.0       -1.000000   \n",
       "75%    10473.000000       1099.500000   2792.000000      0.0        0.000000   \n",
       "max    60869.000000       4948.000000  14472.000000      0.0        0.000000   \n",
       "\n",
       "       Cluster_km  \n",
       "count        63.0  \n",
       "mean          2.0  \n",
       "std           0.0  \n",
       "min           2.0  \n",
       "25%           2.0  \n",
       "50%           2.0  \n",
       "75%           2.0  \n",
       "max           2.0  "
      ]
     },
     "execution_count": 52,
     "metadata": {},
     "output_type": "execute_result"
    }
   ],
   "source": [
    "df[df.Cluster_km==2].describe()"
   ]
  },
  {
   "cell_type": "code",
   "execution_count": 53,
   "metadata": {},
   "outputs": [
    {
     "data": {
      "text/html": [
       "<div>\n",
       "<style scoped>\n",
       "    .dataframe tbody tr th:only-of-type {\n",
       "        vertical-align: middle;\n",
       "    }\n",
       "\n",
       "    .dataframe tbody tr th {\n",
       "        vertical-align: top;\n",
       "    }\n",
       "\n",
       "    .dataframe thead th {\n",
       "        text-align: right;\n",
       "    }\n",
       "</style>\n",
       "<table border=\"1\" class=\"dataframe\">\n",
       "  <thead>\n",
       "    <tr style=\"text-align: right;\">\n",
       "      <th></th>\n",
       "      <th>Channel</th>\n",
       "      <th>Region</th>\n",
       "      <th>Fresh</th>\n",
       "      <th>Milk</th>\n",
       "      <th>Grocery</th>\n",
       "      <th>Frozen</th>\n",
       "      <th>Detergents_Paper</th>\n",
       "      <th>Delicassen</th>\n",
       "      <th>cluster</th>\n",
       "      <th>Cluster_DBSCAN</th>\n",
       "      <th>Cluster_km</th>\n",
       "    </tr>\n",
       "  </thead>\n",
       "  <tbody>\n",
       "    <tr>\n",
       "      <th>count</th>\n",
       "      <td>96.000000</td>\n",
       "      <td>96.000000</td>\n",
       "      <td>96.000000</td>\n",
       "      <td>96.000000</td>\n",
       "      <td>96.000000</td>\n",
       "      <td>96.000000</td>\n",
       "      <td>96.000000</td>\n",
       "      <td>96.000000</td>\n",
       "      <td>96.0</td>\n",
       "      <td>96.000000</td>\n",
       "      <td>96.0</td>\n",
       "    </tr>\n",
       "    <tr>\n",
       "      <th>mean</th>\n",
       "      <td>1.906250</td>\n",
       "      <td>2.520833</td>\n",
       "      <td>5754.166667</td>\n",
       "      <td>10866.604167</td>\n",
       "      <td>16607.104167</td>\n",
       "      <td>1464.125000</td>\n",
       "      <td>7202.875000</td>\n",
       "      <td>1813.385417</td>\n",
       "      <td>0.0</td>\n",
       "      <td>-0.343750</td>\n",
       "      <td>3.0</td>\n",
       "    </tr>\n",
       "    <tr>\n",
       "      <th>std</th>\n",
       "      <td>0.293011</td>\n",
       "      <td>0.781081</td>\n",
       "      <td>5991.802716</td>\n",
       "      <td>5609.764252</td>\n",
       "      <td>6260.071462</td>\n",
       "      <td>1547.614506</td>\n",
       "      <td>3339.170891</td>\n",
       "      <td>2178.076067</td>\n",
       "      <td>0.0</td>\n",
       "      <td>0.477452</td>\n",
       "      <td>0.0</td>\n",
       "    </tr>\n",
       "    <tr>\n",
       "      <th>min</th>\n",
       "      <td>1.000000</td>\n",
       "      <td>1.000000</td>\n",
       "      <td>18.000000</td>\n",
       "      <td>1275.000000</td>\n",
       "      <td>4748.000000</td>\n",
       "      <td>25.000000</td>\n",
       "      <td>282.000000</td>\n",
       "      <td>3.000000</td>\n",
       "      <td>0.0</td>\n",
       "      <td>-1.000000</td>\n",
       "      <td>3.0</td>\n",
       "    </tr>\n",
       "    <tr>\n",
       "      <th>25%</th>\n",
       "      <td>2.000000</td>\n",
       "      <td>2.000000</td>\n",
       "      <td>1357.000000</td>\n",
       "      <td>7369.250000</td>\n",
       "      <td>11648.250000</td>\n",
       "      <td>427.250000</td>\n",
       "      <td>4950.250000</td>\n",
       "      <td>590.250000</td>\n",
       "      <td>0.0</td>\n",
       "      <td>-1.000000</td>\n",
       "      <td>3.0</td>\n",
       "    </tr>\n",
       "    <tr>\n",
       "      <th>50%</th>\n",
       "      <td>2.000000</td>\n",
       "      <td>3.000000</td>\n",
       "      <td>4054.500000</td>\n",
       "      <td>9769.500000</td>\n",
       "      <td>14923.500000</td>\n",
       "      <td>957.000000</td>\n",
       "      <td>6756.500000</td>\n",
       "      <td>1333.000000</td>\n",
       "      <td>0.0</td>\n",
       "      <td>0.000000</td>\n",
       "      <td>3.0</td>\n",
       "    </tr>\n",
       "    <tr>\n",
       "      <th>75%</th>\n",
       "      <td>2.000000</td>\n",
       "      <td>3.000000</td>\n",
       "      <td>8229.250000</td>\n",
       "      <td>12849.750000</td>\n",
       "      <td>20429.500000</td>\n",
       "      <td>1860.000000</td>\n",
       "      <td>8757.250000</td>\n",
       "      <td>2160.500000</td>\n",
       "      <td>0.0</td>\n",
       "      <td>0.000000</td>\n",
       "      <td>3.0</td>\n",
       "    </tr>\n",
       "    <tr>\n",
       "      <th>max</th>\n",
       "      <td>2.000000</td>\n",
       "      <td>3.000000</td>\n",
       "      <td>26373.000000</td>\n",
       "      <td>36423.000000</td>\n",
       "      <td>36486.000000</td>\n",
       "      <td>10155.000000</td>\n",
       "      <td>17120.000000</td>\n",
       "      <td>16523.000000</td>\n",
       "      <td>0.0</td>\n",
       "      <td>0.000000</td>\n",
       "      <td>3.0</td>\n",
       "    </tr>\n",
       "  </tbody>\n",
       "</table>\n",
       "</div>"
      ],
      "text/plain": [
       "         Channel     Region         Fresh          Milk       Grocery  \\\n",
       "count  96.000000  96.000000     96.000000     96.000000     96.000000   \n",
       "mean    1.906250   2.520833   5754.166667  10866.604167  16607.104167   \n",
       "std     0.293011   0.781081   5991.802716   5609.764252   6260.071462   \n",
       "min     1.000000   1.000000     18.000000   1275.000000   4748.000000   \n",
       "25%     2.000000   2.000000   1357.000000   7369.250000  11648.250000   \n",
       "50%     2.000000   3.000000   4054.500000   9769.500000  14923.500000   \n",
       "75%     2.000000   3.000000   8229.250000  12849.750000  20429.500000   \n",
       "max     2.000000   3.000000  26373.000000  36423.000000  36486.000000   \n",
       "\n",
       "             Frozen  Detergents_Paper    Delicassen  cluster  Cluster_DBSCAN  \\\n",
       "count     96.000000         96.000000     96.000000     96.0       96.000000   \n",
       "mean    1464.125000       7202.875000   1813.385417      0.0       -0.343750   \n",
       "std     1547.614506       3339.170891   2178.076067      0.0        0.477452   \n",
       "min       25.000000        282.000000      3.000000      0.0       -1.000000   \n",
       "25%      427.250000       4950.250000    590.250000      0.0       -1.000000   \n",
       "50%      957.000000       6756.500000   1333.000000      0.0        0.000000   \n",
       "75%     1860.000000       8757.250000   2160.500000      0.0        0.000000   \n",
       "max    10155.000000      17120.000000  16523.000000      0.0        0.000000   \n",
       "\n",
       "       Cluster_km  \n",
       "count        96.0  \n",
       "mean          3.0  \n",
       "std           0.0  \n",
       "min           3.0  \n",
       "25%           3.0  \n",
       "50%           3.0  \n",
       "75%           3.0  \n",
       "max           3.0  "
      ]
     },
     "execution_count": 53,
     "metadata": {},
     "output_type": "execute_result"
    }
   ],
   "source": [
    "df[df.Cluster_km==3].describe()"
   ]
  },
  {
   "cell_type": "code",
   "execution_count": 54,
   "metadata": {},
   "outputs": [
    {
     "data": {
      "text/html": [
       "<div>\n",
       "<style scoped>\n",
       "    .dataframe tbody tr th:only-of-type {\n",
       "        vertical-align: middle;\n",
       "    }\n",
       "\n",
       "    .dataframe tbody tr th {\n",
       "        vertical-align: top;\n",
       "    }\n",
       "\n",
       "    .dataframe thead th {\n",
       "        text-align: right;\n",
       "    }\n",
       "</style>\n",
       "<table border=\"1\" class=\"dataframe\">\n",
       "  <thead>\n",
       "    <tr style=\"text-align: right;\">\n",
       "      <th></th>\n",
       "      <th>Channel</th>\n",
       "      <th>Region</th>\n",
       "      <th>Fresh</th>\n",
       "      <th>Milk</th>\n",
       "      <th>Grocery</th>\n",
       "      <th>Frozen</th>\n",
       "      <th>Detergents_Paper</th>\n",
       "      <th>Delicassen</th>\n",
       "      <th>cluster</th>\n",
       "      <th>Cluster_DBSCAN</th>\n",
       "      <th>Cluster_km</th>\n",
       "    </tr>\n",
       "  </thead>\n",
       "  <tbody>\n",
       "    <tr>\n",
       "      <th>count</th>\n",
       "      <td>10.0</td>\n",
       "      <td>10.000000</td>\n",
       "      <td>10.000000</td>\n",
       "      <td>10.000000</td>\n",
       "      <td>10.00000</td>\n",
       "      <td>10.000000</td>\n",
       "      <td>10.000000</td>\n",
       "      <td>10.000000</td>\n",
       "      <td>10.0</td>\n",
       "      <td>10.0</td>\n",
       "      <td>10.0</td>\n",
       "    </tr>\n",
       "    <tr>\n",
       "      <th>mean</th>\n",
       "      <td>2.0</td>\n",
       "      <td>2.500000</td>\n",
       "      <td>15964.900000</td>\n",
       "      <td>34708.500000</td>\n",
       "      <td>48536.90000</td>\n",
       "      <td>3054.600000</td>\n",
       "      <td>24875.200000</td>\n",
       "      <td>2942.800000</td>\n",
       "      <td>1.0</td>\n",
       "      <td>-1.0</td>\n",
       "      <td>4.0</td>\n",
       "    </tr>\n",
       "    <tr>\n",
       "      <th>std</th>\n",
       "      <td>0.0</td>\n",
       "      <td>0.849837</td>\n",
       "      <td>14394.616621</td>\n",
       "      <td>19308.486409</td>\n",
       "      <td>20553.47215</td>\n",
       "      <td>2689.795994</td>\n",
       "      <td>8250.298699</td>\n",
       "      <td>1966.992504</td>\n",
       "      <td>0.0</td>\n",
       "      <td>0.0</td>\n",
       "      <td>0.0</td>\n",
       "    </tr>\n",
       "    <tr>\n",
       "      <th>min</th>\n",
       "      <td>2.0</td>\n",
       "      <td>1.000000</td>\n",
       "      <td>85.000000</td>\n",
       "      <td>4980.000000</td>\n",
       "      <td>26866.00000</td>\n",
       "      <td>36.000000</td>\n",
       "      <td>17740.000000</td>\n",
       "      <td>903.000000</td>\n",
       "      <td>1.0</td>\n",
       "      <td>-1.0</td>\n",
       "      <td>4.0</td>\n",
       "    </tr>\n",
       "    <tr>\n",
       "      <th>25%</th>\n",
       "      <td>2.0</td>\n",
       "      <td>2.250000</td>\n",
       "      <td>6741.750000</td>\n",
       "      <td>24217.750000</td>\n",
       "      <td>32482.00000</td>\n",
       "      <td>996.750000</td>\n",
       "      <td>19032.000000</td>\n",
       "      <td>1360.750000</td>\n",
       "      <td>1.0</td>\n",
       "      <td>-1.0</td>\n",
       "      <td>4.0</td>\n",
       "    </tr>\n",
       "    <tr>\n",
       "      <th>50%</th>\n",
       "      <td>2.0</td>\n",
       "      <td>3.000000</td>\n",
       "      <td>10658.500000</td>\n",
       "      <td>29109.000000</td>\n",
       "      <td>42761.00000</td>\n",
       "      <td>2924.000000</td>\n",
       "      <td>22120.500000</td>\n",
       "      <td>2443.500000</td>\n",
       "      <td>1.0</td>\n",
       "      <td>-1.0</td>\n",
       "      <td>4.0</td>\n",
       "    </tr>\n",
       "    <tr>\n",
       "      <th>75%</th>\n",
       "      <td>2.0</td>\n",
       "      <td>3.000000</td>\n",
       "      <td>21223.000000</td>\n",
       "      <td>44240.000000</td>\n",
       "      <td>58591.25000</td>\n",
       "      <td>4365.500000</td>\n",
       "      <td>26083.500000</td>\n",
       "      <td>4576.750000</td>\n",
       "      <td>1.0</td>\n",
       "      <td>-1.0</td>\n",
       "      <td>4.0</td>\n",
       "    </tr>\n",
       "    <tr>\n",
       "      <th>max</th>\n",
       "      <td>2.0</td>\n",
       "      <td>3.000000</td>\n",
       "      <td>44466.000000</td>\n",
       "      <td>73498.000000</td>\n",
       "      <td>92780.00000</td>\n",
       "      <td>7782.000000</td>\n",
       "      <td>40827.000000</td>\n",
       "      <td>6465.000000</td>\n",
       "      <td>1.0</td>\n",
       "      <td>-1.0</td>\n",
       "      <td>4.0</td>\n",
       "    </tr>\n",
       "  </tbody>\n",
       "</table>\n",
       "</div>"
      ],
      "text/plain": [
       "       Channel     Region         Fresh          Milk      Grocery  \\\n",
       "count     10.0  10.000000     10.000000     10.000000     10.00000   \n",
       "mean       2.0   2.500000  15964.900000  34708.500000  48536.90000   \n",
       "std        0.0   0.849837  14394.616621  19308.486409  20553.47215   \n",
       "min        2.0   1.000000     85.000000   4980.000000  26866.00000   \n",
       "25%        2.0   2.250000   6741.750000  24217.750000  32482.00000   \n",
       "50%        2.0   3.000000  10658.500000  29109.000000  42761.00000   \n",
       "75%        2.0   3.000000  21223.000000  44240.000000  58591.25000   \n",
       "max        2.0   3.000000  44466.000000  73498.000000  92780.00000   \n",
       "\n",
       "            Frozen  Detergents_Paper   Delicassen  cluster  Cluster_DBSCAN  \\\n",
       "count    10.000000         10.000000    10.000000     10.0            10.0   \n",
       "mean   3054.600000      24875.200000  2942.800000      1.0            -1.0   \n",
       "std    2689.795994       8250.298699  1966.992504      0.0             0.0   \n",
       "min      36.000000      17740.000000   903.000000      1.0            -1.0   \n",
       "25%     996.750000      19032.000000  1360.750000      1.0            -1.0   \n",
       "50%    2924.000000      22120.500000  2443.500000      1.0            -1.0   \n",
       "75%    4365.500000      26083.500000  4576.750000      1.0            -1.0   \n",
       "max    7782.000000      40827.000000  6465.000000      1.0            -1.0   \n",
       "\n",
       "       Cluster_km  \n",
       "count        10.0  \n",
       "mean          4.0  \n",
       "std           0.0  \n",
       "min           4.0  \n",
       "25%           4.0  \n",
       "50%           4.0  \n",
       "75%           4.0  \n",
       "max           4.0  "
      ]
     },
     "execution_count": 54,
     "metadata": {},
     "output_type": "execute_result"
    }
   ],
   "source": [
    "df[df.Cluster_km==4].describe()"
   ]
  },
  {
   "cell_type": "code",
   "execution_count": null,
   "metadata": {},
   "outputs": [],
   "source": []
  },
  {
   "cell_type": "markdown",
   "metadata": {},
   "source": [
    "## Principal Component Analysis - PCA\n",
    "\n",
    "#### It is one of the dimensionality reduction techniques to obtain the dimensions accounting for maximum variance"
   ]
  },
  {
   "cell_type": "code",
   "execution_count": 55,
   "metadata": {},
   "outputs": [],
   "source": [
    "df['Channel']=df['Channel']-1"
   ]
  },
  {
   "cell_type": "code",
   "execution_count": 56,
   "metadata": {},
   "outputs": [
    {
     "data": {
      "text/plain": [
       "0    298\n",
       "1    142\n",
       "Name: Channel, dtype: int64"
      ]
     },
     "execution_count": 56,
     "metadata": {},
     "output_type": "execute_result"
    }
   ],
   "source": [
    "df['Channel'].value_counts()"
   ]
  },
  {
   "cell_type": "markdown",
   "metadata": {},
   "source": [
    "#### Separating the dependent variable and independent variables"
   ]
  },
  {
   "cell_type": "code",
   "execution_count": 3,
   "metadata": {},
   "outputs": [],
   "source": [
    "y=df['Channel']\n",
    "X=df.drop('Channel',axis=1)"
   ]
  },
  {
   "cell_type": "code",
   "execution_count": 4,
   "metadata": {},
   "outputs": [
    {
     "name": "stdout",
     "output_type": "stream",
     "text": [
      "Train-Accuracy Score:  1.0\n",
      "Train-AUC:  1.0\n",
      "\n",
      "\n",
      "Test-Accuracy Score:  0.9015151515151515\n",
      "Test-AUC:  0.9671052631578947\n"
     ]
    }
   ],
   "source": [
    "from sklearn.model_selection import train_test_split\n",
    "from sklearn.ensemble import RandomForestClassifier\n",
    "from sklearn.metrics import accuracy_score,classification_report,roc_curve,roc_auc_score\n",
    "\n",
    "X_train, X_test, y_train, y_test = train_test_split(X, y, test_size=0.3, random_state=42)\n",
    "\n",
    "rfc=RandomForestClassifier(random_state=42)\n",
    "rfc.fit(X_train,y_train)\n",
    "\n",
    "y_train_pred = rfc.predict(X_train)\n",
    "y_test_pred = rfc.predict(X_test)\n",
    "\n",
    "y_train_prob = rfc.predict_proba(X_train)[:,1]\n",
    "y_test_prob = rfc.predict_proba(X_test)[:,1]\n",
    "\n",
    "print('Train-Accuracy Score: ', accuracy_score(y_train, y_train_pred))\n",
    "print('Train-AUC: ', roc_auc_score(y_train, y_train_prob))\n",
    "print('\\n')\n",
    "print('Test-Accuracy Score: ', accuracy_score(y_test, y_test_pred))\n",
    "print('Test-AUC: ', roc_auc_score(y_test, y_test_prob))"
   ]
  },
  {
   "cell_type": "markdown",
   "metadata": {},
   "source": [
    "We can see clearly that model has overfitted.Lets tune the model with hyperparameters"
   ]
  },
  {
   "cell_type": "code",
   "execution_count": 5,
   "metadata": {},
   "outputs": [
    {
     "data": {
      "text/plain": [
       "RandomizedSearchCV(cv=3, estimator=RandomForestClassifier(random_state=4),\n",
       "                   n_iter=25,\n",
       "                   param_distributions={'criterion': ['gini', 'entropy'],\n",
       "                                        'max_depth': <scipy.stats._distn_infrastructure.rv_frozen object at 0x0000011F7C54AB48>,\n",
       "                                        'max_features': <scipy.stats._distn_infrastructure.rv_frozen object at 0x0000011F7C54A748>,\n",
       "                                        'min_samples_leaf': <scipy.stats._distn_infrastructure.rv_frozen object at 0x0000011F7C54AD48>,\n",
       "                                        'n_estimators': <scipy.stats._distn_infrastructure.rv_frozen object at 0x0000011F7BE362C8>},\n",
       "                   random_state=4, scoring='roc_auc')"
      ]
     },
     "execution_count": 5,
     "metadata": {},
     "output_type": "execute_result"
    }
   ],
   "source": [
    "from sklearn.model_selection import RandomizedSearchCV\n",
    "from scipy.stats import randint as sp_randint\n",
    "\n",
    "rfc=RandomForestClassifier(random_state=4)\n",
    "param_dist={'n_estimators':sp_randint(50,250),\n",
    "           'max_features':sp_randint(2,8),\n",
    "           'max_depth':sp_randint(2,10),\n",
    "           'criterion':['gini','entropy'],\n",
    "           'min_samples_leaf':sp_randint(1,50)}\n",
    "rsearch=RandomizedSearchCV(rfc,param_distributions=param_dist,n_iter=25,cv=3,scoring='roc_auc',random_state=4)\n",
    "rsearch.fit(X_train,y_train)"
   ]
  },
  {
   "cell_type": "code",
   "execution_count": 6,
   "metadata": {},
   "outputs": [
    {
     "data": {
      "text/plain": [
       "{'criterion': 'gini',\n",
       " 'max_depth': 9,\n",
       " 'max_features': 6,\n",
       " 'min_samples_leaf': 28,\n",
       " 'n_estimators': 109}"
      ]
     },
     "execution_count": 6,
     "metadata": {},
     "output_type": "execute_result"
    }
   ],
   "source": [
    "rsearch.best_params_"
   ]
  },
  {
   "cell_type": "code",
   "execution_count": 7,
   "metadata": {},
   "outputs": [],
   "source": [
    "best_params1={'criterion': 'gini',\n",
    " 'max_depth': 2,\n",
    " 'max_features': 6,\n",
    " 'min_samples_leaf': 24,\n",
    " 'n_estimators': 164}"
   ]
  },
  {
   "cell_type": "code",
   "execution_count": 8,
   "metadata": {},
   "outputs": [
    {
     "name": "stdout",
     "output_type": "stream",
     "text": [
      "Train-Accuracy Score:  0.9253246753246753\n",
      "Train-AUC:  0.9729449472096531\n",
      "\n",
      "\n",
      "Test-Accuracy Score:  0.8863636363636364\n",
      "Test-AUC:  0.95996640537514\n"
     ]
    }
   ],
   "source": [
    "rfc=RandomForestClassifier(random_state=4, **best_params1)\n",
    "rfc.fit(X_train,y_train)\n",
    "y_train_pred = rfc.predict(X_train)\n",
    "y_test_pred = rfc.predict(X_test)\n",
    "\n",
    "y_train_prob = rfc.predict_proba(X_train)[:,1]\n",
    "y_test_prob = rfc.predict_proba(X_test)[:,1]\n",
    "\n",
    "print('Train-Accuracy Score: ', accuracy_score(y_train, y_train_pred))\n",
    "print('Train-AUC: ', roc_auc_score(y_train, y_train_prob))\n",
    "print('\\n')\n",
    "print('Test-Accuracy Score: ', accuracy_score(y_test, y_test_pred))\n",
    "print('Test-AUC: ', roc_auc_score(y_test, y_test_prob))"
   ]
  },
  {
   "cell_type": "markdown",
   "metadata": {},
   "source": [
    "#### Even after tuning for the hyperparameters we were not able to reduce the effect of overfitting.\n",
    "\n",
    "\n",
    "#### So lets look into obtaining the best suitable components using PCA"
   ]
  },
  {
   "cell_type": "code",
   "execution_count": 9,
   "metadata": {},
   "outputs": [],
   "source": [
    "from sklearn.preprocessing import StandardScaler\n",
    "from sklearn.decomposition import PCA\n",
    "\n",
    "ss=StandardScaler()\n",
    "X_trains=ss.fit_transform(X_train)\n",
    "X_tests=ss.transform(X_test)"
   ]
  },
  {
   "cell_type": "code",
   "execution_count": 10,
   "metadata": {},
   "outputs": [
    {
     "data": {
      "text/plain": [
       "PCA()"
      ]
     },
     "execution_count": 10,
     "metadata": {},
     "output_type": "execute_result"
    }
   ],
   "source": [
    "pca=PCA()\n",
    "pca.fit(X_trains)"
   ]
  },
  {
   "cell_type": "code",
   "execution_count": 11,
   "metadata": {},
   "outputs": [
    {
     "data": {
      "text/plain": [
       "array([2.66007146, 1.7349925 , 1.01422642, 0.74641055, 0.52777258,\n",
       "       0.28606721, 0.0532606 ])"
      ]
     },
     "execution_count": 11,
     "metadata": {},
     "output_type": "execute_result"
    }
   ],
   "source": [
    "pca.explained_variance_  ### Eigen values"
   ]
  },
  {
   "cell_type": "code",
   "execution_count": 13,
   "metadata": {},
   "outputs": [
    {
     "data": {
      "image/png": "[encoded data removed]",
      "text/plain": [
       "<Figure size 432x288 with 1 Axes>"
      ]
     },
     "metadata": {
      "needs_background": "light"
     },
     "output_type": "display_data"
    }
   ],
   "source": [
    "plt.bar(range(1,8),pca.explained_variance_)\n",
    "plt.show()"
   ]
  },
  {
   "cell_type": "code",
   "execution_count": 14,
   "metadata": {},
   "outputs": [
    {
     "data": {
      "text/plain": [
       "array([0.37877641, 0.24705134, 0.14441907, 0.10628388, 0.07515129,\n",
       "       0.04073406, 0.00758395])"
      ]
     },
     "execution_count": 14,
     "metadata": {},
     "output_type": "execute_result"
    }
   ],
   "source": [
    "pca.explained_variance_ratio_ ## The variation ratio of each component"
   ]
  },
  {
   "cell_type": "code",
   "execution_count": 15,
   "metadata": {},
   "outputs": [
    {
     "data": {
      "text/plain": [
       "array([0.37877641, 0.62582775, 0.77024682, 0.8765307 , 0.95168199,\n",
       "       0.99241605, 1.        ])"
      ]
     },
     "execution_count": 15,
     "metadata": {},
     "output_type": "execute_result"
    }
   ],
   "source": [
    "np.cumsum(pca.explained_variance_ratio_)"
   ]
  },
  {
   "cell_type": "code",
   "execution_count": 17,
   "metadata": {},
   "outputs": [
    {
     "data": {
      "image/png": "[encoded data removed]",
      "text/plain": [
       "<Figure size 432x288 with 1 Axes>"
      ]
     },
     "metadata": {
      "needs_background": "light"
     },
     "output_type": "display_data"
    }
   ],
   "source": [
    "plt.plot(range(1,8),np.cumsum(pca.explained_variance_ratio_),c='r')\n",
    "plt.xlabel('Components')\n",
    "plt.ylabel('Cumilative Proportion')\n",
    "plt.show()"
   ]
  },
  {
   "cell_type": "markdown",
   "metadata": {},
   "source": [
    "#### NOTE:-\n",
    "\n",
    "#### Here from the cumilative sum and the plot we will get to know that almost 5 components are accounting for 95% of variation in the data\n",
    "\n",
    "#### So now lets use the PCA technique for 95% of variation and have a look at how our model performs"
   ]
  },
  {
   "cell_type": "code",
   "execution_count": 18,
   "metadata": {},
   "outputs": [
    {
     "data": {
      "text/plain": [
       "PCA(n_components=0.95)"
      ]
     },
     "execution_count": 18,
     "metadata": {},
     "output_type": "execute_result"
    }
   ],
   "source": [
    "pca=PCA(0.95)\n",
    "pca.fit(X_trains)"
   ]
  },
  {
   "cell_type": "code",
   "execution_count": 19,
   "metadata": {},
   "outputs": [
    {
     "data": {
      "text/plain": [
       "array([2.66007146, 1.7349925 , 1.01422642, 0.74641055, 0.52777258])"
      ]
     },
     "execution_count": 19,
     "metadata": {},
     "output_type": "execute_result"
    }
   ],
   "source": [
    "pca.explained_variance_"
   ]
  },
  {
   "cell_type": "code",
   "execution_count": 20,
   "metadata": {},
   "outputs": [
    {
     "data": {
      "text/plain": [
       "(7, 5)"
      ]
     },
     "execution_count": 20,
     "metadata": {},
     "output_type": "execute_result"
    }
   ],
   "source": [
    "components=pca.components_.T\n",
    "components.shape"
   ]
  },
  {
   "cell_type": "code",
   "execution_count": 22,
   "metadata": {},
   "outputs": [
    {
     "data": {
      "text/plain": [
       "['PC1', 'PC2', 'PC3', 'PC4', 'PC5']"
      ]
     },
     "execution_count": 22,
     "metadata": {},
     "output_type": "execute_result"
    }
   ],
   "source": [
    "pcs=['PC'+str(i) for i in range(1,6)]\n",
    "pcs"
   ]
  },
  {
   "cell_type": "code",
   "execution_count": 23,
   "metadata": {},
   "outputs": [
    {
     "data": {
      "text/html": [
       "<div>\n",
       "<style scoped>\n",
       "    .dataframe tbody tr th:only-of-type {\n",
       "        vertical-align: middle;\n",
       "    }\n",
       "\n",
       "    .dataframe tbody tr th {\n",
       "        vertical-align: top;\n",
       "    }\n",
       "\n",
       "    .dataframe thead th {\n",
       "        text-align: right;\n",
       "    }\n",
       "</style>\n",
       "<table border=\"1\" class=\"dataframe\">\n",
       "  <thead>\n",
       "    <tr style=\"text-align: right;\">\n",
       "      <th></th>\n",
       "      <th>PC1</th>\n",
       "      <th>PC2</th>\n",
       "      <th>PC3</th>\n",
       "      <th>PC4</th>\n",
       "      <th>PC5</th>\n",
       "    </tr>\n",
       "  </thead>\n",
       "  <tbody>\n",
       "    <tr>\n",
       "      <th>Region</th>\n",
       "      <td>0.044023</td>\n",
       "      <td>0.008797</td>\n",
       "      <td>-0.984285</td>\n",
       "      <td>0.000826</td>\n",
       "      <td>0.170588</td>\n",
       "    </tr>\n",
       "    <tr>\n",
       "      <th>Fresh</th>\n",
       "      <td>0.055930</td>\n",
       "      <td>0.510133</td>\n",
       "      <td>-0.018059</td>\n",
       "      <td>-0.843931</td>\n",
       "      <td>-0.143586</td>\n",
       "    </tr>\n",
       "    <tr>\n",
       "      <th>Milk</th>\n",
       "      <td>0.544778</td>\n",
       "      <td>0.065699</td>\n",
       "      <td>-0.003223</td>\n",
       "      <td>0.059817</td>\n",
       "      <td>-0.142191</td>\n",
       "    </tr>\n",
       "    <tr>\n",
       "      <th>Grocery</th>\n",
       "      <td>0.577176</td>\n",
       "      <td>-0.158485</td>\n",
       "      <td>0.042543</td>\n",
       "      <td>-0.098156</td>\n",
       "      <td>0.125048</td>\n",
       "    </tr>\n",
       "    <tr>\n",
       "      <th>Frozen</th>\n",
       "      <td>0.074993</td>\n",
       "      <td>0.604956</td>\n",
       "      <td>0.137618</td>\n",
       "      <td>0.242128</td>\n",
       "      <td>0.741643</td>\n",
       "    </tr>\n",
       "    <tr>\n",
       "      <th>Detergents_Paper</th>\n",
       "      <td>0.546515</td>\n",
       "      <td>-0.269123</td>\n",
       "      <td>0.057643</td>\n",
       "      <td>-0.106798</td>\n",
       "      <td>0.170011</td>\n",
       "    </tr>\n",
       "    <tr>\n",
       "      <th>Delicassen</th>\n",
       "      <td>0.246407</td>\n",
       "      <td>0.521396</td>\n",
       "      <td>-0.082306</td>\n",
       "      <td>0.452256</td>\n",
       "      <td>-0.579215</td>\n",
       "    </tr>\n",
       "  </tbody>\n",
       "</table>\n",
       "</div>"
      ],
      "text/plain": [
       "                       PC1       PC2       PC3       PC4       PC5\n",
       "Region            0.044023  0.008797 -0.984285  0.000826  0.170588\n",
       "Fresh             0.055930  0.510133 -0.018059 -0.843931 -0.143586\n",
       "Milk              0.544778  0.065699 -0.003223  0.059817 -0.142191\n",
       "Grocery           0.577176 -0.158485  0.042543 -0.098156  0.125048\n",
       "Frozen            0.074993  0.604956  0.137618  0.242128  0.741643\n",
       "Detergents_Paper  0.546515 -0.269123  0.057643 -0.106798  0.170011\n",
       "Delicassen        0.246407  0.521396 -0.082306  0.452256 -0.579215"
      ]
     },
     "execution_count": 23,
     "metadata": {},
     "output_type": "execute_result"
    }
   ],
   "source": [
    "pd.DataFrame(components,index=X.columns,columns=pcs)"
   ]
  },
  {
   "cell_type": "code",
   "execution_count": 24,
   "metadata": {},
   "outputs": [],
   "source": [
    "pca=PCA(0.95)\n",
    "X_train_pc=pca.fit_transform(X_trains)\n",
    "X_test_pc=pca.transform(X_tests)"
   ]
  },
  {
   "cell_type": "code",
   "execution_count": 25,
   "metadata": {},
   "outputs": [
    {
     "data": {
      "text/plain": [
       "((308, 5), (132, 5))"
      ]
     },
     "execution_count": 25,
     "metadata": {},
     "output_type": "execute_result"
    }
   ],
   "source": [
    "X_train_pc.shape,X_test_pc.shape"
   ]
  },
  {
   "cell_type": "code",
   "execution_count": 26,
   "metadata": {},
   "outputs": [
    {
     "data": {
      "text/plain": [
       "RandomForestClassifier(random_state=4)"
      ]
     },
     "execution_count": 26,
     "metadata": {},
     "output_type": "execute_result"
    }
   ],
   "source": [
    "rfc=RandomForestClassifier(random_state=4)\n",
    "rfc.fit(X_train_pc,y_train)"
   ]
  },
  {
   "cell_type": "code",
   "execution_count": 27,
   "metadata": {},
   "outputs": [
    {
     "data": {
      "text/plain": [
       "RandomizedSearchCV(cv=3, estimator=RandomForestClassifier(random_state=4),\n",
       "                   n_iter=25,\n",
       "                   param_distributions={'criterion': ['gini', 'entropy'],\n",
       "                                        'max_depth': <scipy.stats._distn_infrastructure.rv_frozen object at 0x0000011F7C566088>,\n",
       "                                        'max_features': <scipy.stats._distn_infrastructure.rv_frozen object at 0x0000011F7D090F08>,\n",
       "                                        'min_samples_leaf': <scipy.stats._distn_infrastructure.rv_frozen object at 0x0000011F7C588808>,\n",
       "                                        'n_estimators': <scipy.stats._distn_infrastructure.rv_frozen object at 0x0000011F7D090288>},\n",
       "                   random_state=4, scoring='roc_auc')"
      ]
     },
     "execution_count": 27,
     "metadata": {},
     "output_type": "execute_result"
    }
   ],
   "source": [
    "rfc=RandomForestClassifier(random_state=4)\n",
    "param_dist={'n_estimators':sp_randint(50,250),\n",
    "           'max_features':sp_randint(2,5),\n",
    "           'max_depth':sp_randint(2,10),\n",
    "           'criterion':['gini','entropy'],\n",
    "           'min_samples_leaf':sp_randint(1,50)}\n",
    "rsearch=RandomizedSearchCV(rfc,param_distributions=param_dist,n_iter=25,cv=3,scoring='roc_auc',random_state=4)\n",
    "rsearch.fit(X_train,y_train)"
   ]
  },
  {
   "cell_type": "code",
   "execution_count": 28,
   "metadata": {},
   "outputs": [
    {
     "data": {
      "text/plain": [
       "{'criterion': 'entropy',\n",
       " 'max_depth': 4,\n",
       " 'max_features': 4,\n",
       " 'min_samples_leaf': 32,\n",
       " 'n_estimators': 235}"
      ]
     },
     "execution_count": 28,
     "metadata": {},
     "output_type": "execute_result"
    }
   ],
   "source": [
    "rsearch.best_params_"
   ]
  },
  {
   "cell_type": "code",
   "execution_count": 29,
   "metadata": {},
   "outputs": [],
   "source": [
    "best_params2={'criterion': 'entropy',\n",
    " 'max_depth': 4,\n",
    " 'max_features': 4,\n",
    " 'min_samples_leaf': 32,\n",
    " 'n_estimators': 235}"
   ]
  },
  {
   "cell_type": "code",
   "execution_count": 30,
   "metadata": {},
   "outputs": [
    {
     "name": "stdout",
     "output_type": "stream",
     "text": [
      "Train-Accuracy Score:  0.9285714285714286\n",
      "Train-AUC:  0.9728506787330317\n",
      "\n",
      "\n",
      "Test-Accuracy Score:  0.8863636363636364\n",
      "Test-AUC:  0.9658454647256439\n"
     ]
    }
   ],
   "source": [
    "rfc=RandomForestClassifier(random_state=4, **best_params2)\n",
    "rfc.fit(X_train,y_train)\n",
    "y_train_pred = rfc.predict(X_train)\n",
    "y_test_pred = rfc.predict(X_test)\n",
    "\n",
    "y_train_prob = rfc.predict_proba(X_train)[:,1]\n",
    "y_test_prob = rfc.predict_proba(X_test)[:,1]\n",
    "\n",
    "print('Train-Accuracy Score: ', accuracy_score(y_train, y_train_pred))\n",
    "print('Train-AUC: ', roc_auc_score(y_train, y_train_prob))\n",
    "print('\\n')\n",
    "print('Test-Accuracy Score: ', accuracy_score(y_test, y_test_pred))\n",
    "print('Test-AUC: ', roc_auc_score(y_test, y_test_prob))"
   ]
  },
  {
   "cell_type": "markdown",
   "metadata": {},
   "source": [
    "#### Lets see the cross validation scores"
   ]
  },
  {
   "cell_type": "code",
   "execution_count": 31,
   "metadata": {},
   "outputs": [
    {
     "data": {
      "text/plain": [
       "array([0.97201178, 0.95829787, 0.95852138])"
      ]
     },
     "execution_count": 31,
     "metadata": {},
     "output_type": "execute_result"
    }
   ],
   "source": [
    "from sklearn.model_selection import cross_val_score\n",
    "\n",
    "rfc=RandomForestClassifier(random_state=4,**best_params1)\n",
    "cvs1=cross_val_score(rfc,X,y,scoring='roc_auc',cv=3)\n",
    "cvs1"
   ]
  },
  {
   "cell_type": "code",
   "execution_count": 32,
   "metadata": {},
   "outputs": [
    {
     "data": {
      "text/plain": [
       "0.9629436803018364"
      ]
     },
     "execution_count": 32,
     "metadata": {},
     "output_type": "execute_result"
    }
   ],
   "source": [
    "cvs1.mean()"
   ]
  },
  {
   "cell_type": "code",
   "execution_count": 33,
   "metadata": {},
   "outputs": [
    {
     "data": {
      "text/plain": [
       "array([0.9760101 , 0.96021277, 0.95336342])"
      ]
     },
     "execution_count": 33,
     "metadata": {},
     "output_type": "execute_result"
    }
   ],
   "source": [
    "rfc=RandomForestClassifier(random_state=4,**best_params2)\n",
    "cvs2=cross_val_score(rfc,X,y,scoring='roc_auc',cv=3)\n",
    "cvs2"
   ]
  },
  {
   "cell_type": "code",
   "execution_count": 34,
   "metadata": {},
   "outputs": [
    {
     "data": {
      "text/plain": [
       "0.9631954294720252"
      ]
     },
     "execution_count": 34,
     "metadata": {},
     "output_type": "execute_result"
    }
   ],
   "source": [
    "cvs2.mean()"
   ]
  },
  {
   "cell_type": "markdown",
   "metadata": {},
   "source": [
    "## Final Inferences after applying PCA\n",
    "\n",
    "The base model we choose initially i.e Random Forest clearly showed signs of overfitting.So after tuning the model for hyperparameters the model's overfitting ratio came down an amount lesser than considerable.So as the next step lets look into PCA, one of the dimensionality reduction technique available.\n",
    "\n",
    "After considering the dimensionality reduction technique(PCA) we could see that there were 5 components that were contributing to the maximum variance.But we couldnt see a major improvement in the models performance by taking up the dimensionality reduction technique"
   ]
  },
  {
   "cell_type": "markdown",
   "metadata": {},
   "source": [
    "#                            Thank you!"
   ]
  }
 ],
 "metadata": {
  "kernelspec": {
   "display_name": "Python 3",
   "language": "python",
   "name": "python3"
  },
  "language_info": {
   "codemirror_mode": {
    "name": "ipython",
    "version": 3
   },
   "file_extension": ".py",
   "mimetype": "text/x-python",
   "name": "python",
   "nbconvert_exporter": "python",
   "pygments_lexer": "ipython3",
   "version": "3.6.13"
  }
 },
 "nbformat": 4,
 "nbformat_minor": 4
}
